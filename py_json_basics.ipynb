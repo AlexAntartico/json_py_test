{
 "cells": [
  {
   "cell_type": "code",
   "execution_count": 2,
   "id": "63a267f3-54d6-4404-9baa-8bd1cbf2a558",
   "metadata": {
    "tags": []
   },
   "outputs": [],
   "source": [
    "import pandas as pd\n",
    "from pandas import DataFrame, Series"
   ]
  },
  {
   "cell_type": "code",
   "execution_count": 3,
   "id": "ef495feb-5524-4e45-9733-7f3e9a50439e",
   "metadata": {
    "tags": []
   },
   "outputs": [
    {
     "data": {
      "text/html": [
       "<div>\n",
       "<style scoped>\n",
       "    .dataframe tbody tr th:only-of-type {\n",
       "        vertical-align: middle;\n",
       "    }\n",
       "\n",
       "    .dataframe tbody tr th {\n",
       "        vertical-align: top;\n",
       "    }\n",
       "\n",
       "    .dataframe thead th {\n",
       "        text-align: right;\n",
       "    }\n",
       "</style>\n",
       "<table border=\"1\" class=\"dataframe\">\n",
       "  <thead>\n",
       "    <tr style=\"text-align: right;\">\n",
       "      <th></th>\n",
       "      <th>0</th>\n",
       "    </tr>\n",
       "  </thead>\n",
       "  <tbody>\n",
       "    <tr>\n",
       "      <th>0</th>\n",
       "      <td>1</td>\n",
       "    </tr>\n",
       "    <tr>\n",
       "      <th>1</th>\n",
       "      <td>3</td>\n",
       "    </tr>\n",
       "    <tr>\n",
       "      <th>2</th>\n",
       "      <td>6</td>\n",
       "    </tr>\n",
       "    <tr>\n",
       "      <th>3</th>\n",
       "      <td>7</td>\n",
       "    </tr>\n",
       "    <tr>\n",
       "      <th>4</th>\n",
       "      <td>8</td>\n",
       "    </tr>\n",
       "  </tbody>\n",
       "</table>\n",
       "</div>"
      ],
      "text/plain": [
       "   0\n",
       "0  1\n",
       "1  3\n",
       "2  6\n",
       "3  7\n",
       "4  8"
      ]
     },
     "execution_count": 3,
     "metadata": {},
     "output_type": "execute_result"
    }
   ],
   "source": [
    "data = DataFrame([1,3,6,7,8])\n",
    "data"
   ]
  },
  {
   "cell_type": "markdown",
   "id": "2a447f17-0c68-45f1-8dc7-317884f75df1",
   "metadata": {},
   "source": [
    "# JSON (JavaScript Object Notation)\n",
    "\n",
    "JSON is a lightweight data format that is easy for humans to read and write and easy for machines to parse. It's widely used for data exchange on the web and in many applications.\n",
    "\n",
    "**Key Features:**\n",
    "\n",
    "* **Text-based:**  JSON is written in plain text, making it human-readable and portable across different systems.\n",
    "* **Lightweight:**  Its simple structure makes it efficient for data transmission.\n",
    "* **Language-independent:**  Although it originated from JavaScript, JSON is supported by many programming languages, including Python.\n",
    "\n",
    "**Structure:**\n",
    "\n",
    "JSON is built on two main structures:\n",
    "\n",
    "1. **Objects:**  Collections of key-value pairs. Keys are enclosed in double quotes, and values can be:\n",
    "   - Strings (in double quotes)\n",
    "   - Numbers\n",
    "   - Booleans (`true` or `false`)\n",
    "   - `null`\n",
    "   - Other objects\n",
    "   - Arrays\n",
    "\n",
    "2. **Arrays:** Ordered lists of values. Values can be of any valid JSON data type.\n",
    "\n",
    "**Example:**\n",
    "\n",
    "```json\n",
    "{\n",
    "  \"name\": \"John Doe\",\n",
    "  \"age\": 30,\n",
    "  \"city\": \"New York\",\n",
    "  \"is_active\": true,\n",
    "  \"hobbies\": [\"reading\", \"hiking\", \"coding\"]\n",
    "}\n",
    "```"
   ]
  },
  {
   "cell_type": "markdown",
   "id": "7c7bd2e2-9e55-491b-b6e1-57fe050c27d1",
   "metadata": {},
   "source": [
    "In Python:\n",
    "\n",
    "- **json.dumps()**: Converts Python objects to JSON strings.\n",
    "- **json.loads()**: Converts JSON strings to Python objects.\n",
    "\n",
    "Common Uses:\n",
    "**Web APIs**: Exchanging data between web servers and clients.\n",
    "**Configuration files**: Storing application settings.\n",
    "**Data storage**: Serializing data for storage in databases or files.\n",
    "\n",
    "To pretty pring a file in python directly from console, you can save in a json format and use:\n",
    "```python\n",
    "python -m jston.tool <file>\n",
    "```\n",
    "Or you can use the < operator in \\*nix systems"
   ]
  },
  {
   "cell_type": "markdown",
   "id": "d2f542a6-5710-44ec-9fc6-d9ec0984a451",
   "metadata": {},
   "source": [
    "## Rules for Keys\n",
    "\n",
    "Allowed: Strings, Unique values, Case sentitive, Valid Chars \\[0-9,a-z,A-Z,-_], no spaces or special chars\n",
    "\n",
    "- Must be **strings**: Keys are always enclosed in double quotes (\").\n",
    "- **Unique** within an object: Each key within an object must be unique. Duplicate keys are not allowed.\n",
    "- **Case-sensitive**: \"name\" and \"Name\" are considered different keys.\n",
    "- **Valid characters**:\n",
    "  - Letters (a-z, A-Z)\n",
    "  - Digits (0-9)\n",
    "  - Underscore (_)\n",
    "  - Hyphen (-)\n",
    "- **No spaces or special characters** (except underscore and hyphen): Use underscores or camelCase for multi-word keys (e.g., \"first_name\", \"firstName\").\n",
    "\n",
    "**Rules for Values**\n",
    "\n",
    "- Can be any valid JSON data type:\n",
    "  - **String** (in double quotes)\n",
    "  - **Number** (integer or floating-point)\n",
    "  - **Boolean** (true or false)\n",
    "  - **null**\n",
    "  - **Object** (another key-value pair collection)\n",
    "  - **Array** (an ordered list of values)\n",
    "- No undefined or functions: Unlike JavaScript objects, JSON values cannot be undefined or functions.\n"
   ]
  },
  {
   "cell_type": "markdown",
   "id": "f547de4d-dc3e-493e-a255-752fcb866181",
   "metadata": {},
   "source": [
    "### Examples\n",
    "\n",
    "```json\n",
    "Basic Example\n",
    "{\n",
    "    \"Key\":\"value\"\n",
    "}\n",
    "\n",
    "Multiple Key Value Pairs\n",
    "{\n",
    "    \"Key\":\"value\",\n",
    "    \"Key2\":\"value2\"\n",
    "}\n",
    "\n",
    "Where values are strings\n",
    "{\n",
    "    \"Item\":\"Hoodie\"\n",
    "}\n",
    "\n",
    "Where values are Numbers\n",
    "{\n",
    "    \"year\":1985\n",
    "}\n",
    "\n",
    "\n",
    "Where values are True or False\n",
    "{\n",
    "    \"active\":True,\n",
    "    \"IsReady\":False\n",
    "}\n",
    "\n",
    "Where values are Null\n",
    "{\n",
    "    \"price\":null\n",
    "}\n",
    "Where value is another Object\n",
    "{\n",
    "    \"key\":{\n",
    "        \"key\":\"value\"\n",
    "    }\n",
    "}\n",
    "Where value is an Array\n",
    "{\n",
    "    \"key\":[]\n",
    "}\n",
    "```\n",
    "\n",
    "**Online Tools to validate JSON**\n",
    "\n",
    "https://jsonchecker.com/\n",
    "\n",
    "https://jsonlint.com/\n",
    "\n"
   ]
  },
  {
   "cell_type": "markdown",
   "id": "23fc6a80-8ba9-422f-a236-6d7b90f78e8d",
   "metadata": {},
   "source": [
    "### Working with arrays\n",
    "\n",
    "**Examples**\n",
    "\n",
    "```json\n",
    "Where Values are Strings\n",
    "[\n",
    "    \"Bananas\",\n",
    "    \"Eggs\",\n",
    "    \"Bread\"\n",
    "]\n",
    "\n",
    "Where Values are Numbers\n",
    "[\n",
    "    100,\n",
    "    200,\n",
    "    400,\n",
    "    800\n",
    "]\n",
    "\n",
    "\n",
    "Where Values are Booleans\n",
    "[\n",
    "    Ture,\n",
    "    False,\n",
    "    False,\n",
    "    False\n",
    "]\n",
    "\n",
    "Where Values are Null\n",
    "[\n",
    "    null,\n",
    "    1200,\n",
    "    null,\n",
    "    80\n",
    "]\n",
    "\n",
    "Where Values are Objects\n",
    "[\n",
    "    (\"key\":\"Values\"),\n",
    "    (\"key\":\"Values\"),\n",
    "    (\"key\":\"Values\")\n",
    "]\n",
    "\n",
    "Where Values are Arrays\n",
    "[\n",
    "    [\"Bananas\",\"Eggs\",\"Bread\"],\n",
    "    [100,200,400]\n",
    "]\n",
    "```\n"
   ]
  },
  {
   "cell_type": "markdown",
   "id": "2558e61a-a496-46f0-822d-191b57b7c3b8",
   "metadata": {
    "tags": []
   },
   "source": [
    "## Nested JSON\n",
    "\n",
    "**Nest as a tree**\n",
    "\n",
    "```json\n",
    "{\n",
    "    \"firstKey\":\n",
    "        {\n",
    "        \"branch\":\n",
    "            [\n",
    "            \"leaf1\",\n",
    "            \"leaf2\",\n",
    "            \"leaf3\"\n",
    "            ]\n",
    "        }\n",
    "}\n",
    "\n",
    "\n",
    "[\n",
    "    {\n",
    "    \"_id\": 1,\n",
    "    \"author\": \"Albert Einstein\",\n",
    "    \"quote\": \"Everything should be as simple as it can be, but not simpler!\",\n",
    "    \"source\": null\n",
    "    },\n",
    "    {\n",
    "    \"_id\": 2,\n",
    "    \"author\": \"Albert Einstein\",\n",
    "    \"quote\": \"Logic will get you from A to Z; imagination will get you everywhere.\",\n",
    "    \"source\": null\n",
    "    },\n",
    "    {\n",
    "    \"_id\": 3,\n",
    "    \"author\": \"Albert Einstein\",\n",
    "    \"quote\": \"Try not to become a man of success. Rather become a man of value.\",\n",
    "    \"source\": null\n",
    "    },\n",
    "    {\n",
    "    \"_id\": 4,\n",
    "    \"author\": \"Albert Einstein\",\n",
    "    \"quote\": \"It is not that I'm so smart. But I stay with the questions much longer.\",\n",
    "    \"source\": null\n",
    "    }\n",
    "]\n",
    "```"
   ]
  },
  {
   "cell_type": "markdown",
   "id": "9dd171a5-7517-45cc-aebe-4bd06bf191f4",
   "metadata": {},
   "source": [
    "## Checking Converted Data Types\n",
    "\n",
    "\n",
    "\n",
    "| JSON                                  | Direction | Python                             |\n",
    "|:--------------------------------------|:---------:|:-----------------------------------|\n",
    "| object <pre>{\"key\":\"value\"}</pre>     |   <-->    | dict  <pre>{'key':'value'}</pre>   |\n",
    "| array  <pre>[100,200,300]</pre>       |   <-->    | list <pre>[100,200,300]</pre>      |\n",
    "| array <pre>[\"Hello\",\"There\"]</pre>    |    <--    | tuple <pre>('Hello','There')</pre> |\n",
    "| string  <pre>\"Hello There!\"</pre>     |   <-->    | str <pre>'Hello There!'</pre>      |\n",
    "| number <pre>15<pre>                   |   <-->    | int <pre>15<pre>                   |\n",
    "| number (with decimals) <pre>6.99<pre> |   <-->    | float <pre>6.99<pre>               |\n",
    "| true                                  |   <-->    | True                               |\n",
    "| false                                 |   <-->    | False                              |\n",
    "| null                                  |   <-->    | None                               |"
   ]
  },
  {
   "cell_type": "code",
   "execution_count": 11,
   "id": "ef7e0d8f-248b-4e44-b8a0-8f558826bf40",
   "metadata": {
    "tags": []
   },
   "outputs": [
    {
     "data": {
      "text/plain": [
       "[{'_id': 1,\n",
       "  'author': 'Albert Einstein',\n",
       "  'quote': 'Everything should be as simple as it can be, but not simpler!',\n",
       "  'source': None},\n",
       " {'_id': 2,\n",
       "  'author': 'Albert Einstein',\n",
       "  'quote': 'Logic will get you from A to Z; imagination will get you everywhere.',\n",
       "  'source': None},\n",
       " {'_id': 3,\n",
       "  'author': 'Albert Einstein',\n",
       "  'quote': 'Try not to become a man of success. Rather become a man of value.',\n",
       "  'source': None},\n",
       " {'_id': 4,\n",
       "  'author': 'Albert Einstein',\n",
       "  'quote': \"It is not that I'm so smart. But I stay with the questions much longer.\",\n",
       "  'source': None}]"
      ]
     },
     "execution_count": 11,
     "metadata": {},
     "output_type": "execute_result"
    }
   ],
   "source": [
    "import json\n",
    "file = open('einstein_quotes.json')\n",
    "data = json.load(file)\n",
    "data"
   ]
  },
  {
   "cell_type": "code",
   "execution_count": 12,
   "id": "2a10cb89-da78-4ba6-b4f0-4ae9d093af9c",
   "metadata": {
    "tags": []
   },
   "outputs": [
    {
     "data": {
      "text/plain": [
       "list"
      ]
     },
     "execution_count": 12,
     "metadata": {},
     "output_type": "execute_result"
    }
   ],
   "source": [
    "type(data)"
   ]
  },
  {
   "cell_type": "markdown",
   "id": "27c86ffd-4df8-450f-968d-a1de91365d1b",
   "metadata": {
    "tags": []
   },
   "source": [
    "### Deserialize from string\n",
    "\n",
    "```json\n",
    "[{'_id': 1,\n",
    "  'author': 'Albert Einstein',\n",
    "  'quote': 'Everything should be as simple as it can be, but not simpler!',\n",
    "  'source': None},\n",
    " {'_id': 2,\n",
    "  'author': 'Albert Einstein',\n",
    "  'quote': 'Logic will get you from A to Z; imagination will get you everywhere.',\n",
    "  'source': None},\n",
    " {'_id': 3,\n",
    "  'author': 'Albert Einstein',\n",
    "  'quote': 'Try not to become a man of success. Rather become a man of value.',\n",
    "  'source': None},\n",
    " {'_id': 4,\n",
    "  'author': 'Albert Einstein',\n",
    "  'quote': \"It is not that I'm so smart. But I stay with the questions much longer.\",\n",
    "  'source': None}]\n",
    "\n",
    "```\n",
    "\n",
    "**Deserializing** a JSON string means converting it from its text-based representation (a string) into a data structure that your programming language can understand and work with (like a Python dictionary or list).\n",
    "\n",
    "Think of it like this:\n",
    "\n",
    "**Serialization**: Taking a data structure (like a Python dictionary) and turning it into a JSON string (text). This is like \"packaging\" the data for transport or storage.\n",
    "**Deserialization**: Taking a JSON string (text) and turning it back into a data structure (like a Python dictionary). This is like \"unpacking\" the data so you can use it."
   ]
  },
  {
   "cell_type": "markdown",
   "id": "1e4a043d-ded3-48fe-852c-110571751bf9",
   "metadata": {},
   "source": [
    "### Why deserialize?\n",
    "\n",
    "**Data usage**: Deserialization allows you to access and manipulate the data within your program.\n",
    "**Interoperability**: JSON is a common format for exchanging data between different systems and languages. Deserialization lets you use JSON data received from other sources.\n",
    "Data processing: You can deserialize JSON data, process it, and then serialize it back to JSON if needed."
   ]
  },
  {
   "cell_type": "code",
   "execution_count": 15,
   "id": "3589367d-67db-4572-bb1c-e2f2cc72c828",
   "metadata": {
    "tags": []
   },
   "outputs": [],
   "source": [
    "# example\n",
    "json_msg = '{\"name\": \"Alice\", \"age\": 30}' "
   ]
  },
  {
   "cell_type": "code",
   "execution_count": 16,
   "id": "b85b3303-2c51-4c29-a6c8-18a87803e12e",
   "metadata": {
    "tags": []
   },
   "outputs": [
    {
     "name": "stdout",
     "output_type": "stream",
     "text": [
      "{'name': 'Alice', 'age': 30}\n",
      "<class 'dict'>\n"
     ]
    }
   ],
   "source": [
    "# deserialization in Python would look like this:\n",
    "\n",
    "import json\n",
    "\n",
    "json_string = '{\"name\": \"Alice\", \"age\": 30}'\n",
    "\n",
    "data = json.loads(json_string) \n",
    "\n",
    "print(data)  # Output: {'name': 'Alice', 'age': 30}\n",
    "print(type(data))  # Output: <class 'dict'>"
   ]
  },
  {
   "cell_type": "code",
   "execution_count": 17,
   "id": "91e428c6-ea71-46c2-a8cc-82aad7ac518d",
   "metadata": {
    "tags": []
   },
   "outputs": [],
   "source": [
    "string = \"\"\"\n",
    "[\n",
    "    {\n",
    "    \"_id\": 1,\n",
    "    \"author\": \"Albert Einstein\",\n",
    "    \"quote\": \"Everything should be as simple as it can be, but not simpler!\",\n",
    "    \"source\": null\n",
    "    },\n",
    "    {\n",
    "    \"_id\": 2,\n",
    "    \"author\": \"Albert Einstein\",\n",
    "    \"quote\": \"Logic will get you from A to Z; imagination will get you everywhere.\",\n",
    "    \"source\": null\n",
    "    },\n",
    "    {\n",
    "    \"_id\": 3,\n",
    "    \"author\": \"Albert Einstein\",\n",
    "    \"quote\": \"Try not to become a man of success. Rather become a man of value.\",\n",
    "    \"source\": null\n",
    "    },\n",
    "    {\n",
    "    \"_id\": 4,\n",
    "    \"author\": \"Albert Einstein\",\n",
    "    \"quote\": \"It is not that I'm so smart. But I stay with the questions much longer.\",\n",
    "    \"source\": null\n",
    "    }\n",
    "]\n",
    "\"\"\"\n"
   ]
  },
  {
   "cell_type": "code",
   "execution_count": 18,
   "id": "fb4ce5cf-f80e-4c31-83b3-9acaf6850596",
   "metadata": {
    "tags": []
   },
   "outputs": [
    {
     "data": {
      "text/plain": [
       "[{'_id': 1,\n",
       "  'author': 'Albert Einstein',\n",
       "  'quote': 'Everything should be as simple as it can be, but not simpler!',\n",
       "  'source': None},\n",
       " {'_id': 2,\n",
       "  'author': 'Albert Einstein',\n",
       "  'quote': 'Logic will get you from A to Z; imagination will get you everywhere.',\n",
       "  'source': None},\n",
       " {'_id': 3,\n",
       "  'author': 'Albert Einstein',\n",
       "  'quote': 'Try not to become a man of success. Rather become a man of value.',\n",
       "  'source': None},\n",
       " {'_id': 4,\n",
       "  'author': 'Albert Einstein',\n",
       "  'quote': \"It is not that I'm so smart. But I stay with the questions much longer.\",\n",
       "  'source': None}]"
      ]
     },
     "execution_count": 18,
     "metadata": {},
     "output_type": "execute_result"
    }
   ],
   "source": [
    "data = json.loads(string)\n",
    "data"
   ]
  },
  {
   "cell_type": "code",
   "execution_count": 19,
   "id": "8eec6bdc-95d3-433b-ab1e-cdbb6d1f5e52",
   "metadata": {
    "tags": []
   },
   "outputs": [
    {
     "data": {
      "text/plain": [
       "list"
      ]
     },
     "execution_count": 19,
     "metadata": {},
     "output_type": "execute_result"
    }
   ],
   "source": [
    "type(data)"
   ]
  },
  {
   "cell_type": "code",
   "execution_count": 20,
   "id": "6e59d9a8-3630-4954-8717-8fd661dda93e",
   "metadata": {
    "tags": []
   },
   "outputs": [
    {
     "data": {
      "text/plain": [
       "dict"
      ]
     },
     "execution_count": 20,
     "metadata": {},
     "output_type": "execute_result"
    }
   ],
   "source": [
    "type(data[0])"
   ]
  },
  {
   "cell_type": "code",
   "execution_count": 21,
   "id": "5218680f-3420-4a00-a91f-69090143cfc4",
   "metadata": {
    "tags": []
   },
   "outputs": [
    {
     "data": {
      "text/plain": [
       "int"
      ]
     },
     "execution_count": 21,
     "metadata": {},
     "output_type": "execute_result"
    }
   ],
   "source": [
    "type(data[0]['_id'])"
   ]
  },
  {
   "cell_type": "code",
   "execution_count": 22,
   "id": "599c720b-ffc6-4979-9079-78c007bbc130",
   "metadata": {
    "tags": []
   },
   "outputs": [
    {
     "data": {
      "text/plain": [
       "str"
      ]
     },
     "execution_count": 22,
     "metadata": {},
     "output_type": "execute_result"
    }
   ],
   "source": [
    "type(data[0]['author'])"
   ]
  },
  {
   "cell_type": "code",
   "execution_count": 23,
   "id": "9c461b1c-7a8e-49be-b951-b6b0722487ad",
   "metadata": {
    "tags": []
   },
   "outputs": [
    {
     "data": {
      "text/plain": [
       "'Albert Einstein'"
      ]
     },
     "execution_count": 23,
     "metadata": {},
     "output_type": "execute_result"
    }
   ],
   "source": [
    "data[0]['author']"
   ]
  },
  {
   "cell_type": "code",
   "execution_count": 24,
   "id": "e5f4da39-7b51-4637-9e25-1cd96da11721",
   "metadata": {
    "tags": []
   },
   "outputs": [
    {
     "data": {
      "text/plain": [
       "NoneType"
      ]
     },
     "execution_count": 24,
     "metadata": {},
     "output_type": "execute_result"
    }
   ],
   "source": [
    "type(data[0]['source'])"
   ]
  },
  {
   "cell_type": "markdown",
   "id": "3e91eca1-5edd-4735-ad95-e1f09c2397bd",
   "metadata": {},
   "source": [
    "## Serializing JSON\n",
    "\n"
   ]
  },
  {
   "cell_type": "code",
   "execution_count": 26,
   "id": "f63a7393-63b3-4341-a172-1db4b5241d8b",
   "metadata": {
    "tags": []
   },
   "outputs": [
    {
     "data": {
      "text/plain": [
       "dict"
      ]
     },
     "execution_count": 26,
     "metadata": {},
     "output_type": "execute_result"
    }
   ],
   "source": [
    "import json\n",
    "file = open('weather_alert.json')\n",
    "data = json.load(file)\n",
    "type(data)"
   ]
  },
  {
   "cell_type": "code",
   "execution_count": 27,
   "id": "65d9b36a-cb0c-4db8-a5c3-0bc2b0962cd1",
   "metadata": {
    "tags": []
   },
   "outputs": [
    {
     "data": {
      "text/plain": [
       "{'alerts': {'alert': [{'headline': 'Flood Warning issued January 05 at 9:47PM EST until January 07 at 6:15AM EST by NWS',\n",
       "    'msgtype': 'Alert',\n",
       "    'severity': 'Moderate',\n",
       "    'urgency': 'Expected',\n",
       "    'areas': 'Calhoun; Lexington; Richland',\n",
       "    'category': 'Met',\n",
       "    'certainty': 'Likely',\n",
       "    'event': 'Flood Warning',\n",
       "    'note': 'Alert for Calhoun; Lexington; Richland (South Carolina) Issued by the National Weather Service',\n",
       "    'effective': '2021-01-05T21:47:00-05:00',\n",
       "    'expires': '2021-01-07T06:15:00-05:00',\n",
       "    'desc': '...The Flood Warning continues for the following rivers in South\\nCarolina...\\nCongaree River At Carolina Eastman affecting Richland, Calhoun\\nand Lexington Counties.\\nCongaree River At Congaree National Park-Gadsden affecting\\nCalhoun and Richland Counties.\\nNorth Fork Edisto River At Orangeburg affecting Orangeburg County.\\n...The Flood Warning is now in effect until Thursday morning...\\nThe Flood Warning continues for\\nthe Congaree River At Carolina Eastman.\\n* Until Thursday morning.\\n* At 9:28 PM EST Tuesday the stage was 115.6 feet.\\n* Flood stage is 115.0 feet.\\n* Minor flooding is occurring and minor flooding is forecast.\\n* Recent Activity...The maximum river stage in the 24 hours ending\\nat 9:28 PM EST Tuesday was 118.2 feet.\\n* Forecast...The river will rise to 115.7 feet just after midnight\\ntonight. It will then fall below flood stage tomorrow morning to\\n114.2 feet and begin rising again tomorrow evening. It will rise\\nto 114.3 feet early Thursday morning. It will then fall again and\\nremain below flood stage.\\n* Impact...At 115.0 feet, Flooding occurs in low lying areas of the\\nCarolina Eastman Facility and at the Congaree National Park.\\n* Flood History...This crest compares to a previous crest of 116.3\\nfeet on 12/03/2020.\\n&&',\n",
       "    'instruction': 'A Flood Warning means that flooding is imminent or occurring. All\\ninterested parties should take necessary precautions immediately.\\nMotorists should not attempt to drive around barricades or drive\\ncars through flooded areas.\\nCaution is urged when walking near riverbanks.\\nAdditional information is available at www.weather.gov.\\nThe next statement will be issued Wednesday morning at 1000 AM EST.'},\n",
       "   {'headline': 'Flood Warning issued January 05 at 9:47PM EST until January 09 at 4:00AM EST by NWS',\n",
       "    'msgtype': 'Alert',\n",
       "    'severity': 'Moderate',\n",
       "    'urgency': 'Expected',\n",
       "    'areas': 'Calhoun; Richland',\n",
       "    'category': 'Met',\n",
       "    'certainty': 'Likely',\n",
       "    'event': 'Flood Warning',\n",
       "    'note': 'Alert for Calhoun; Richland (South Carolina) Issued by the National Weather Service',\n",
       "    'effective': '2021-01-05T21:47:00-05:00',\n",
       "    'expires': '2021-01-09T04:00:00-05:00',\n",
       "    'desc': '...The Flood Warning continues for the following rivers in South\\nCarolina...\\nCongaree River At Carolina Eastman affecting Richland, Calhoun\\nand Lexington Counties.\\nCongaree River At Congaree National Park-Gadsden affecting\\nCalhoun and Richland Counties.\\nNorth Fork Edisto River At Orangeburg affecting Orangeburg County.\\n...The Flood Warning is now in effect until early Saturday morning...\\nThe Flood Warning continues for\\nthe Congaree River At Congaree National Park-Gadsden.\\n* Until late Friday night.\\n* At 9:00 PM EST Tuesday the stage was 16.5 feet.\\n* Flood stage is 15.0 feet.\\n* Minor flooding is occurring and minor flooding is forecast.\\n* Recent Activity...The maximum river stage in the 24 hours ending\\nat 9:00 PM EST Tuesday was 17.2 feet.\\n* Forecast...The river is expected to fall below flood stage early\\nFriday morning and continue falling to 12.4 feet Sunday evening.\\n* Impact...At 15.0 feet, Flooding begins in the Congaree National\\nPark. This will begin to produce flooding of portions of the lower\\nboardwalk.\\n* Impact...At 17.0 feet, The access road to the Sandy Run\\nsubdivision becomes flooded. The lower boardwalk in the Congaree\\nNational Park becomes flooded by Cedar Creek.\\n* Impact...At 18.0 feet, Several homes in the Sandy Run subdivision\\nalong the river become flooded. At 18 feet the river covers the\\nWeston Lake overlook in the Congaree National Park. Between 18 and\\n18.5 feet the river begins to cover sections of the elevated\\nboardwalk.\\n* Flood History...This crest compares to a previous crest of 16.3\\nfeet on 12/03/2020.\\n&&',\n",
       "    'instruction': 'A Flood Warning means that flooding is imminent or occurring. All\\ninterested parties should take necessary precautions immediately.\\nMotorists should not attempt to drive around barricades or drive\\ncars through flooded areas.\\nCaution is urged when walking near riverbanks.\\nAdditional information is available at www.weather.gov.\\nThe next statement will be issued Wednesday morning at 1000 AM EST.'}]}}"
      ]
     },
     "execution_count": 27,
     "metadata": {},
     "output_type": "execute_result"
    }
   ],
   "source": [
    "data"
   ]
  },
  {
   "cell_type": "markdown",
   "id": "a46623b4-499d-43c9-821d-173f5534f338",
   "metadata": {},
   "source": [
    "### Serialize to a file"
   ]
  },
  {
   "cell_type": "code",
   "execution_count": 29,
   "id": "cf6aed13-a0bb-4640-83f2-f691247327ab",
   "metadata": {
    "tags": []
   },
   "outputs": [],
   "source": [
    "export_file = open('new.json', 'w')\n",
    "json.dump(data,export_file)\n",
    "export_file.close()"
   ]
  },
  {
   "cell_type": "markdown",
   "id": "151a0c51-4032-4966-a59a-9e9691e7c030",
   "metadata": {},
   "source": [
    "```python\n",
    "export_file = open('new.json', 'w')\n",
    "```\n",
    "\n",
    "- This line opens a file named \"new.json\" in write mode ('w').\n",
    "- If the file doesn't exist, it will be created.\n",
    "- If the file already exists, its contents will be overwritten.\n",
    "- The open() function returns a file object, which is assigned to the variable export_file. This object allows you to interact with the file.\n",
    "\n",
    "```python\n",
    "json.dump(data, export_file)\n",
    "```\n",
    "\n",
    "- This line uses the json.dump() function to write data to the opened file.\n",
    "- data: This should be a Python object (like a dictionary or list) that you want to store as JSON.\n",
    "- export_file: This is the file object where the JSON data will be written.\n",
    "\n",
    "```python\n",
    "export_file.close()\n",
    "```\n",
    "\n",
    "- This line closes the file. It's important to close files afte"
   ]
  },
  {
   "cell_type": "markdown",
   "id": "ff27c96e-e95d-48cf-a91b-d69f5d456919",
   "metadata": {},
   "source": [
    "### Pretty Print"
   ]
  },
  {
   "cell_type": "code",
   "execution_count": 32,
   "id": "45cbbece-1650-4695-a2d3-1950409e8a3c",
   "metadata": {
    "tags": []
   },
   "outputs": [],
   "source": [
    "export_file = open('pretty_print.json', 'w')\n",
    "json.dump(data, export_file, indent=4)\n",
    "export_file.close()"
   ]
  },
  {
   "cell_type": "markdown",
   "id": "53d94d87-2afe-4d86-8bd1-9339b403de15",
   "metadata": {},
   "source": [
    "### Sort Keys"
   ]
  },
  {
   "cell_type": "code",
   "execution_count": 34,
   "id": "009ad255-6628-4f86-a5c6-9b4f0db90979",
   "metadata": {
    "tags": []
   },
   "outputs": [],
   "source": [
    "export_file = open('sort_keys.json', 'w')\n",
    "json.dump(data, export_file, indent=4, sort_keys=True)\n",
    "export_file.close()"
   ]
  },
  {
   "cell_type": "markdown",
   "id": "f34fbb15-dae2-48c0-b703-0fd2eb225f04",
   "metadata": {},
   "source": [
    "## Serialize to a String"
   ]
  },
  {
   "cell_type": "code",
   "execution_count": 36,
   "id": "b803d49a-85e2-400b-b208-504864d7929d",
   "metadata": {
    "tags": []
   },
   "outputs": [
    {
     "data": {
      "text/plain": [
       "'{\"alerts\": {\"alert\": [{\"headline\": \"Flood Warning issued January 05 at 9:47PM EST until January 07 at 6:15AM EST by NWS\", \"msgtype\": \"Alert\", \"severity\": \"Moderate\", \"urgency\": \"Expected\", \"areas\": \"Calhoun; Lexington; Richland\", \"category\": \"Met\", \"certainty\": \"Likely\", \"event\": \"Flood Warning\", \"note\": \"Alert for Calhoun; Lexington; Richland (South Carolina) Issued by the National Weather Service\", \"effective\": \"2021-01-05T21:47:00-05:00\", \"expires\": \"2021-01-07T06:15:00-05:00\", \"desc\": \"...The Flood Warning continues for the following rivers in South\\\\nCarolina...\\\\nCongaree River At Carolina Eastman affecting Richland, Calhoun\\\\nand Lexington Counties.\\\\nCongaree River At Congaree National Park-Gadsden affecting\\\\nCalhoun and Richland Counties.\\\\nNorth Fork Edisto River At Orangeburg affecting Orangeburg County.\\\\n...The Flood Warning is now in effect until Thursday morning...\\\\nThe Flood Warning continues for\\\\nthe Congaree River At Carolina Eastman.\\\\n* Until Thursday morning.\\\\n* At 9:28 PM EST Tuesday the stage was 115.6 feet.\\\\n* Flood stage is 115.0 feet.\\\\n* Minor flooding is occurring and minor flooding is forecast.\\\\n* Recent Activity...The maximum river stage in the 24 hours ending\\\\nat 9:28 PM EST Tuesday was 118.2 feet.\\\\n* Forecast...The river will rise to 115.7 feet just after midnight\\\\ntonight. It will then fall below flood stage tomorrow morning to\\\\n114.2 feet and begin rising again tomorrow evening. It will rise\\\\nto 114.3 feet early Thursday morning. It will then fall again and\\\\nremain below flood stage.\\\\n* Impact...At 115.0 feet, Flooding occurs in low lying areas of the\\\\nCarolina Eastman Facility and at the Congaree National Park.\\\\n* Flood History...This crest compares to a previous crest of 116.3\\\\nfeet on 12/03/2020.\\\\n&&\", \"instruction\": \"A Flood Warning means that flooding is imminent or occurring. All\\\\ninterested parties should take necessary precautions immediately.\\\\nMotorists should not attempt to drive around barricades or drive\\\\ncars through flooded areas.\\\\nCaution is urged when walking near riverbanks.\\\\nAdditional information is available at www.weather.gov.\\\\nThe next statement will be issued Wednesday morning at 1000 AM EST.\"}, {\"headline\": \"Flood Warning issued January 05 at 9:47PM EST until January 09 at 4:00AM EST by NWS\", \"msgtype\": \"Alert\", \"severity\": \"Moderate\", \"urgency\": \"Expected\", \"areas\": \"Calhoun; Richland\", \"category\": \"Met\", \"certainty\": \"Likely\", \"event\": \"Flood Warning\", \"note\": \"Alert for Calhoun; Richland (South Carolina) Issued by the National Weather Service\", \"effective\": \"2021-01-05T21:47:00-05:00\", \"expires\": \"2021-01-09T04:00:00-05:00\", \"desc\": \"...The Flood Warning continues for the following rivers in South\\\\nCarolina...\\\\nCongaree River At Carolina Eastman affecting Richland, Calhoun\\\\nand Lexington Counties.\\\\nCongaree River At Congaree National Park-Gadsden affecting\\\\nCalhoun and Richland Counties.\\\\nNorth Fork Edisto River At Orangeburg affecting Orangeburg County.\\\\n...The Flood Warning is now in effect until early Saturday morning...\\\\nThe Flood Warning continues for\\\\nthe Congaree River At Congaree National Park-Gadsden.\\\\n* Until late Friday night.\\\\n* At 9:00 PM EST Tuesday the stage was 16.5 feet.\\\\n* Flood stage is 15.0 feet.\\\\n* Minor flooding is occurring and minor flooding is forecast.\\\\n* Recent Activity...The maximum river stage in the 24 hours ending\\\\nat 9:00 PM EST Tuesday was 17.2 feet.\\\\n* Forecast...The river is expected to fall below flood stage early\\\\nFriday morning and continue falling to 12.4 feet Sunday evening.\\\\n* Impact...At 15.0 feet, Flooding begins in the Congaree National\\\\nPark. This will begin to produce flooding of portions of the lower\\\\nboardwalk.\\\\n* Impact...At 17.0 feet, The access road to the Sandy Run\\\\nsubdivision becomes flooded. The lower boardwalk in the Congaree\\\\nNational Park becomes flooded by Cedar Creek.\\\\n* Impact...At 18.0 feet, Several homes in the Sandy Run subdivision\\\\nalong the river become flooded. At 18 feet the river covers the\\\\nWeston Lake overlook in the Congaree National Park. Between 18 and\\\\n18.5 feet the river begins to cover sections of the elevated\\\\nboardwalk.\\\\n* Flood History...This crest compares to a previous crest of 16.3\\\\nfeet on 12/03/2020.\\\\n&&\", \"instruction\": \"A Flood Warning means that flooding is imminent or occurring. All\\\\ninterested parties should take necessary precautions immediately.\\\\nMotorists should not attempt to drive around barricades or drive\\\\ncars through flooded areas.\\\\nCaution is urged when walking near riverbanks.\\\\nAdditional information is available at www.weather.gov.\\\\nThe next statement will be issued Wednesday morning at 1000 AM EST.\"}]}}'"
      ]
     },
     "execution_count": 36,
     "metadata": {},
     "output_type": "execute_result"
    }
   ],
   "source": [
    "json.dumps(data)"
   ]
  },
  {
   "cell_type": "markdown",
   "id": "299f6204-aabd-4b75-9acf-619a5e0b84b1",
   "metadata": {},
   "source": [
    "### Pretty Print"
   ]
  },
  {
   "cell_type": "code",
   "execution_count": 38,
   "id": "943218a2-2da6-45e8-af7e-b3e4f975ebf5",
   "metadata": {
    "tags": []
   },
   "outputs": [
    {
     "data": {
      "text/plain": [
       "'{\\n    \"alerts\": {\\n        \"alert\": [\\n            {\\n                \"headline\": \"Flood Warning issued January 05 at 9:47PM EST until January 07 at 6:15AM EST by NWS\",\\n                \"msgtype\": \"Alert\",\\n                \"severity\": \"Moderate\",\\n                \"urgency\": \"Expected\",\\n                \"areas\": \"Calhoun; Lexington; Richland\",\\n                \"category\": \"Met\",\\n                \"certainty\": \"Likely\",\\n                \"event\": \"Flood Warning\",\\n                \"note\": \"Alert for Calhoun; Lexington; Richland (South Carolina) Issued by the National Weather Service\",\\n                \"effective\": \"2021-01-05T21:47:00-05:00\",\\n                \"expires\": \"2021-01-07T06:15:00-05:00\",\\n                \"desc\": \"...The Flood Warning continues for the following rivers in South\\\\nCarolina...\\\\nCongaree River At Carolina Eastman affecting Richland, Calhoun\\\\nand Lexington Counties.\\\\nCongaree River At Congaree National Park-Gadsden affecting\\\\nCalhoun and Richland Counties.\\\\nNorth Fork Edisto River At Orangeburg affecting Orangeburg County.\\\\n...The Flood Warning is now in effect until Thursday morning...\\\\nThe Flood Warning continues for\\\\nthe Congaree River At Carolina Eastman.\\\\n* Until Thursday morning.\\\\n* At 9:28 PM EST Tuesday the stage was 115.6 feet.\\\\n* Flood stage is 115.0 feet.\\\\n* Minor flooding is occurring and minor flooding is forecast.\\\\n* Recent Activity...The maximum river stage in the 24 hours ending\\\\nat 9:28 PM EST Tuesday was 118.2 feet.\\\\n* Forecast...The river will rise to 115.7 feet just after midnight\\\\ntonight. It will then fall below flood stage tomorrow morning to\\\\n114.2 feet and begin rising again tomorrow evening. It will rise\\\\nto 114.3 feet early Thursday morning. It will then fall again and\\\\nremain below flood stage.\\\\n* Impact...At 115.0 feet, Flooding occurs in low lying areas of the\\\\nCarolina Eastman Facility and at the Congaree National Park.\\\\n* Flood History...This crest compares to a previous crest of 116.3\\\\nfeet on 12/03/2020.\\\\n&&\",\\n                \"instruction\": \"A Flood Warning means that flooding is imminent or occurring. All\\\\ninterested parties should take necessary precautions immediately.\\\\nMotorists should not attempt to drive around barricades or drive\\\\ncars through flooded areas.\\\\nCaution is urged when walking near riverbanks.\\\\nAdditional information is available at www.weather.gov.\\\\nThe next statement will be issued Wednesday morning at 1000 AM EST.\"\\n            },\\n            {\\n                \"headline\": \"Flood Warning issued January 05 at 9:47PM EST until January 09 at 4:00AM EST by NWS\",\\n                \"msgtype\": \"Alert\",\\n                \"severity\": \"Moderate\",\\n                \"urgency\": \"Expected\",\\n                \"areas\": \"Calhoun; Richland\",\\n                \"category\": \"Met\",\\n                \"certainty\": \"Likely\",\\n                \"event\": \"Flood Warning\",\\n                \"note\": \"Alert for Calhoun; Richland (South Carolina) Issued by the National Weather Service\",\\n                \"effective\": \"2021-01-05T21:47:00-05:00\",\\n                \"expires\": \"2021-01-09T04:00:00-05:00\",\\n                \"desc\": \"...The Flood Warning continues for the following rivers in South\\\\nCarolina...\\\\nCongaree River At Carolina Eastman affecting Richland, Calhoun\\\\nand Lexington Counties.\\\\nCongaree River At Congaree National Park-Gadsden affecting\\\\nCalhoun and Richland Counties.\\\\nNorth Fork Edisto River At Orangeburg affecting Orangeburg County.\\\\n...The Flood Warning is now in effect until early Saturday morning...\\\\nThe Flood Warning continues for\\\\nthe Congaree River At Congaree National Park-Gadsden.\\\\n* Until late Friday night.\\\\n* At 9:00 PM EST Tuesday the stage was 16.5 feet.\\\\n* Flood stage is 15.0 feet.\\\\n* Minor flooding is occurring and minor flooding is forecast.\\\\n* Recent Activity...The maximum river stage in the 24 hours ending\\\\nat 9:00 PM EST Tuesday was 17.2 feet.\\\\n* Forecast...The river is expected to fall below flood stage early\\\\nFriday morning and continue falling to 12.4 feet Sunday evening.\\\\n* Impact...At 15.0 feet, Flooding begins in the Congaree National\\\\nPark. This will begin to produce flooding of portions of the lower\\\\nboardwalk.\\\\n* Impact...At 17.0 feet, The access road to the Sandy Run\\\\nsubdivision becomes flooded. The lower boardwalk in the Congaree\\\\nNational Park becomes flooded by Cedar Creek.\\\\n* Impact...At 18.0 feet, Several homes in the Sandy Run subdivision\\\\nalong the river become flooded. At 18 feet the river covers the\\\\nWeston Lake overlook in the Congaree National Park. Between 18 and\\\\n18.5 feet the river begins to cover sections of the elevated\\\\nboardwalk.\\\\n* Flood History...This crest compares to a previous crest of 16.3\\\\nfeet on 12/03/2020.\\\\n&&\",\\n                \"instruction\": \"A Flood Warning means that flooding is imminent or occurring. All\\\\ninterested parties should take necessary precautions immediately.\\\\nMotorists should not attempt to drive around barricades or drive\\\\ncars through flooded areas.\\\\nCaution is urged when walking near riverbanks.\\\\nAdditional information is available at www.weather.gov.\\\\nThe next statement will be issued Wednesday morning at 1000 AM EST.\"\\n            }\\n        ]\\n    }\\n}'"
      ]
     },
     "execution_count": 38,
     "metadata": {},
     "output_type": "execute_result"
    }
   ],
   "source": [
    "json.dumps(data, indent=4)"
   ]
  },
  {
   "cell_type": "markdown",
   "id": "22bf4799-5bde-4eee-b7ff-f2d1bff2a823",
   "metadata": {},
   "source": [
    "### Sorted Keys"
   ]
  },
  {
   "cell_type": "code",
   "execution_count": 40,
   "id": "f83e9730-c322-49ab-9076-b913794f12e2",
   "metadata": {
    "tags": []
   },
   "outputs": [
    {
     "data": {
      "text/plain": [
       "'{\\n    \"alerts\": {\\n        \"alert\": [\\n            {\\n                \"areas\": \"Calhoun; Lexington; Richland\",\\n                \"category\": \"Met\",\\n                \"certainty\": \"Likely\",\\n                \"desc\": \"...The Flood Warning continues for the following rivers in South\\\\nCarolina...\\\\nCongaree River At Carolina Eastman affecting Richland, Calhoun\\\\nand Lexington Counties.\\\\nCongaree River At Congaree National Park-Gadsden affecting\\\\nCalhoun and Richland Counties.\\\\nNorth Fork Edisto River At Orangeburg affecting Orangeburg County.\\\\n...The Flood Warning is now in effect until Thursday morning...\\\\nThe Flood Warning continues for\\\\nthe Congaree River At Carolina Eastman.\\\\n* Until Thursday morning.\\\\n* At 9:28 PM EST Tuesday the stage was 115.6 feet.\\\\n* Flood stage is 115.0 feet.\\\\n* Minor flooding is occurring and minor flooding is forecast.\\\\n* Recent Activity...The maximum river stage in the 24 hours ending\\\\nat 9:28 PM EST Tuesday was 118.2 feet.\\\\n* Forecast...The river will rise to 115.7 feet just after midnight\\\\ntonight. It will then fall below flood stage tomorrow morning to\\\\n114.2 feet and begin rising again tomorrow evening. It will rise\\\\nto 114.3 feet early Thursday morning. It will then fall again and\\\\nremain below flood stage.\\\\n* Impact...At 115.0 feet, Flooding occurs in low lying areas of the\\\\nCarolina Eastman Facility and at the Congaree National Park.\\\\n* Flood History...This crest compares to a previous crest of 116.3\\\\nfeet on 12/03/2020.\\\\n&&\",\\n                \"effective\": \"2021-01-05T21:47:00-05:00\",\\n                \"event\": \"Flood Warning\",\\n                \"expires\": \"2021-01-07T06:15:00-05:00\",\\n                \"headline\": \"Flood Warning issued January 05 at 9:47PM EST until January 07 at 6:15AM EST by NWS\",\\n                \"instruction\": \"A Flood Warning means that flooding is imminent or occurring. All\\\\ninterested parties should take necessary precautions immediately.\\\\nMotorists should not attempt to drive around barricades or drive\\\\ncars through flooded areas.\\\\nCaution is urged when walking near riverbanks.\\\\nAdditional information is available at www.weather.gov.\\\\nThe next statement will be issued Wednesday morning at 1000 AM EST.\",\\n                \"msgtype\": \"Alert\",\\n                \"note\": \"Alert for Calhoun; Lexington; Richland (South Carolina) Issued by the National Weather Service\",\\n                \"severity\": \"Moderate\",\\n                \"urgency\": \"Expected\"\\n            },\\n            {\\n                \"areas\": \"Calhoun; Richland\",\\n                \"category\": \"Met\",\\n                \"certainty\": \"Likely\",\\n                \"desc\": \"...The Flood Warning continues for the following rivers in South\\\\nCarolina...\\\\nCongaree River At Carolina Eastman affecting Richland, Calhoun\\\\nand Lexington Counties.\\\\nCongaree River At Congaree National Park-Gadsden affecting\\\\nCalhoun and Richland Counties.\\\\nNorth Fork Edisto River At Orangeburg affecting Orangeburg County.\\\\n...The Flood Warning is now in effect until early Saturday morning...\\\\nThe Flood Warning continues for\\\\nthe Congaree River At Congaree National Park-Gadsden.\\\\n* Until late Friday night.\\\\n* At 9:00 PM EST Tuesday the stage was 16.5 feet.\\\\n* Flood stage is 15.0 feet.\\\\n* Minor flooding is occurring and minor flooding is forecast.\\\\n* Recent Activity...The maximum river stage in the 24 hours ending\\\\nat 9:00 PM EST Tuesday was 17.2 feet.\\\\n* Forecast...The river is expected to fall below flood stage early\\\\nFriday morning and continue falling to 12.4 feet Sunday evening.\\\\n* Impact...At 15.0 feet, Flooding begins in the Congaree National\\\\nPark. This will begin to produce flooding of portions of the lower\\\\nboardwalk.\\\\n* Impact...At 17.0 feet, The access road to the Sandy Run\\\\nsubdivision becomes flooded. The lower boardwalk in the Congaree\\\\nNational Park becomes flooded by Cedar Creek.\\\\n* Impact...At 18.0 feet, Several homes in the Sandy Run subdivision\\\\nalong the river become flooded. At 18 feet the river covers the\\\\nWeston Lake overlook in the Congaree National Park. Between 18 and\\\\n18.5 feet the river begins to cover sections of the elevated\\\\nboardwalk.\\\\n* Flood History...This crest compares to a previous crest of 16.3\\\\nfeet on 12/03/2020.\\\\n&&\",\\n                \"effective\": \"2021-01-05T21:47:00-05:00\",\\n                \"event\": \"Flood Warning\",\\n                \"expires\": \"2021-01-09T04:00:00-05:00\",\\n                \"headline\": \"Flood Warning issued January 05 at 9:47PM EST until January 09 at 4:00AM EST by NWS\",\\n                \"instruction\": \"A Flood Warning means that flooding is imminent or occurring. All\\\\ninterested parties should take necessary precautions immediately.\\\\nMotorists should not attempt to drive around barricades or drive\\\\ncars through flooded areas.\\\\nCaution is urged when walking near riverbanks.\\\\nAdditional information is available at www.weather.gov.\\\\nThe next statement will be issued Wednesday morning at 1000 AM EST.\",\\n                \"msgtype\": \"Alert\",\\n                \"note\": \"Alert for Calhoun; Richland (South Carolina) Issued by the National Weather Service\",\\n                \"severity\": \"Moderate\",\\n                \"urgency\": \"Expected\"\\n            }\\n        ]\\n    }\\n}'"
      ]
     },
     "execution_count": 40,
     "metadata": {},
     "output_type": "execute_result"
    }
   ],
   "source": [
    "json.dumps(data, indent=4, sort_keys=True)"
   ]
  },
  {
   "cell_type": "markdown",
   "id": "e3549d2c-f203-4ed4-9c56-d9d36bf56b6e",
   "metadata": {
    "tags": []
   },
   "source": [
    "## Dictionaries and list structures"
   ]
  },
  {
   "cell_type": "code",
   "execution_count": 42,
   "id": "d3baa2d1-4be9-465a-a848-e0a83dbf4424",
   "metadata": {
    "tags": []
   },
   "outputs": [],
   "source": [
    "def display_items(List):\n",
    "    count=0\n",
    "    for x in List:\n",
    "        print(str(count) + ': ' + str(x))\n",
    "        count += 1"
   ]
  },
  {
   "cell_type": "code",
   "execution_count": 43,
   "id": "8d4fd02f-444e-46fc-a918-822dacd006e7",
   "metadata": {
    "tags": []
   },
   "outputs": [],
   "source": [
    "file = open('navigate.json')\n",
    "data = json.load(file)\n",
    "file.close()"
   ]
  },
  {
   "cell_type": "markdown",
   "id": "0d56a886-2a67-4bc6-96bc-db53f60aa352",
   "metadata": {},
   "source": [
    "### First Layer (Dictionary)"
   ]
  },
  {
   "cell_type": "code",
   "execution_count": 45,
   "id": "98b9cf49-dcfe-4e53-b8cb-d5ed4df9d9bb",
   "metadata": {
    "tags": []
   },
   "outputs": [
    {
     "data": {
      "text/plain": [
       "dict_keys(['Key', 'Key5'])"
      ]
     },
     "execution_count": 45,
     "metadata": {},
     "output_type": "execute_result"
    }
   ],
   "source": [
    "data.keys()"
   ]
  },
  {
   "cell_type": "code",
   "execution_count": 46,
   "id": "9b465b92-f1fe-461a-b246-8cc459d064b7",
   "metadata": {
    "tags": []
   },
   "outputs": [
    {
     "data": {
      "text/plain": [
       "dict_values([[{'Key2': ['Value1', 'Value2', 'Value3', 'Value4']}, {'Key4': 'Value'}], 'Value5'])"
      ]
     },
     "execution_count": 46,
     "metadata": {},
     "output_type": "execute_result"
    }
   ],
   "source": [
    "data.values()"
   ]
  },
  {
   "cell_type": "markdown",
   "id": "887def1d-61cd-471e-a9fe-9ab6a86d7c6d",
   "metadata": {},
   "source": [
    "### Second Layer (List)"
   ]
  },
  {
   "cell_type": "code",
   "execution_count": 48,
   "id": "3da65d96-b93f-4353-b4e9-30aeb64cec75",
   "metadata": {
    "tags": []
   },
   "outputs": [
    {
     "data": {
      "text/plain": [
       "[{'Key2': ['Value1', 'Value2', 'Value3', 'Value4']}, {'Key4': 'Value'}]"
      ]
     },
     "execution_count": 48,
     "metadata": {},
     "output_type": "execute_result"
    }
   ],
   "source": [
    "data['Key']"
   ]
  },
  {
   "cell_type": "code",
   "execution_count": 49,
   "id": "5454fdd3-9f98-44d6-a85b-a4ff52270c24",
   "metadata": {
    "tags": []
   },
   "outputs": [
    {
     "name": "stdout",
     "output_type": "stream",
     "text": [
      "0: {'Key2': ['Value1', 'Value2', 'Value3', 'Value4']}\n",
      "1: {'Key4': 'Value'}\n"
     ]
    }
   ],
   "source": [
    "display_items(data['Key'])"
   ]
  },
  {
   "cell_type": "markdown",
   "id": "e9212a6c-5a4a-49ea-a6f8-ec3f27a717d7",
   "metadata": {},
   "source": [
    "### Third Layer (Dictionary)"
   ]
  },
  {
   "cell_type": "code",
   "execution_count": 51,
   "id": "8ce4b52a-a535-4640-8d39-0d13aa15444b",
   "metadata": {
    "tags": []
   },
   "outputs": [
    {
     "data": {
      "text/plain": [
       "{'Key2': ['Value1', 'Value2', 'Value3', 'Value4']}"
      ]
     },
     "execution_count": 51,
     "metadata": {},
     "output_type": "execute_result"
    }
   ],
   "source": [
    "data['Key'][0]"
   ]
  },
  {
   "cell_type": "code",
   "execution_count": 52,
   "id": "6924a749-db20-4b7d-bed1-2d74dd2244d1",
   "metadata": {
    "tags": []
   },
   "outputs": [
    {
     "data": {
      "text/plain": [
       "dict_keys(['Key2'])"
      ]
     },
     "execution_count": 52,
     "metadata": {},
     "output_type": "execute_result"
    }
   ],
   "source": [
    "data['Key'][0].keys()"
   ]
  },
  {
   "cell_type": "code",
   "execution_count": 53,
   "id": "726b0977-a306-4284-a433-8476b466e21c",
   "metadata": {
    "tags": []
   },
   "outputs": [
    {
     "data": {
      "text/plain": [
       "dict_values([['Value1', 'Value2', 'Value3', 'Value4']])"
      ]
     },
     "execution_count": 53,
     "metadata": {},
     "output_type": "execute_result"
    }
   ],
   "source": [
    "data['Key'][0].values()"
   ]
  },
  {
   "cell_type": "markdown",
   "id": "feb056dc-f340-4f27-8102-5bfd8cbda083",
   "metadata": {},
   "source": [
    "### Fourth Layer (List)"
   ]
  },
  {
   "cell_type": "code",
   "execution_count": 55,
   "id": "d2c0f378-afe6-4e89-a687-d580669d58c3",
   "metadata": {
    "tags": []
   },
   "outputs": [
    {
     "data": {
      "text/plain": [
       "['Value1', 'Value2', 'Value3', 'Value4']"
      ]
     },
     "execution_count": 55,
     "metadata": {},
     "output_type": "execute_result"
    }
   ],
   "source": [
    "data['Key'][0]['Key2']"
   ]
  },
  {
   "cell_type": "code",
   "execution_count": 56,
   "id": "a1d51636-ae50-4a9a-b4a8-9cd66bfebd8a",
   "metadata": {
    "tags": []
   },
   "outputs": [
    {
     "name": "stdout",
     "output_type": "stream",
     "text": [
      "0: Value1\n",
      "1: Value2\n",
      "2: Value3\n",
      "3: Value4\n"
     ]
    }
   ],
   "source": [
    "display_items(data['Key'][0]['Key2'])"
   ]
  },
  {
   "cell_type": "code",
   "execution_count": 57,
   "id": "544d8806-2058-4a0e-9665-6bc7a1533d06",
   "metadata": {
    "tags": []
   },
   "outputs": [
    {
     "data": {
      "text/plain": [
       "'Value2'"
      ]
     },
     "execution_count": 57,
     "metadata": {},
     "output_type": "execute_result"
    }
   ],
   "source": [
    "data['Key'][0]['Key2'][1]"
   ]
  },
  {
   "cell_type": "markdown",
   "id": "ab627a19-9fbe-45b8-aa11-cea1607e2807",
   "metadata": {},
   "source": [
    "## List Methods"
   ]
  },
  {
   "cell_type": "code",
   "execution_count": 59,
   "id": "23250bb4-462e-4125-83d0-581ede8a045d",
   "metadata": {
    "tags": []
   },
   "outputs": [
    {
     "data": {
      "text/plain": [
       "[{'_id': 1,\n",
       "  'author': 'Albert Einstein',\n",
       "  'quote': 'Everything should be as simple as it can be, but not simpler!',\n",
       "  'source': None},\n",
       " {'_id': 2,\n",
       "  'author': 'Albert Einstein',\n",
       "  'quote': 'Logic will get you from A to Z; imagination will get you everywhere.',\n",
       "  'source': None},\n",
       " {'_id': 3,\n",
       "  'author': 'Albert Einstein',\n",
       "  'quote': 'Try not to become a man of success. Rather become a man of value.',\n",
       "  'source': None},\n",
       " {'_id': 4,\n",
       "  'author': 'Albert Einstein',\n",
       "  'quote': \"It is not that I'm so smart. But I stay with the questions much longer.\",\n",
       "  'source': None}]"
      ]
     },
     "execution_count": 59,
     "metadata": {},
     "output_type": "execute_result"
    }
   ],
   "source": [
    "f = open('einstein_quotes.json', 'r')\n",
    "data = json.load(f)\n",
    "f.close()\n",
    "data"
   ]
  },
  {
   "cell_type": "markdown",
   "id": "6cadfa5f-3f49-4d31-9499-1ebaaea5aa7f",
   "metadata": {},
   "source": [
    "### append()"
   ]
  },
  {
   "cell_type": "code",
   "execution_count": 61,
   "id": "f7de32b0-380a-49df-b2ac-da499c81f875",
   "metadata": {
    "tags": []
   },
   "outputs": [
    {
     "data": {
      "text/plain": [
       "[{'_id': 1,\n",
       "  'author': 'Albert Einstein',\n",
       "  'quote': 'Everything should be as simple as it can be, but not simpler!',\n",
       "  'source': None},\n",
       " {'_id': 2,\n",
       "  'author': 'Albert Einstein',\n",
       "  'quote': 'Logic will get you from A to Z; imagination will get you everywhere.',\n",
       "  'source': None},\n",
       " {'_id': 3,\n",
       "  'author': 'Albert Einstein',\n",
       "  'quote': 'Try not to become a man of success. Rather become a man of value.',\n",
       "  'source': None},\n",
       " {'_id': 4,\n",
       "  'author': 'Albert Einstein',\n",
       "  'quote': \"It is not that I'm so smart. But I stay with the questions much longer.\",\n",
       "  'source': None},\n",
       " {'author': 'Einstein'}]"
      ]
     },
     "execution_count": 61,
     "metadata": {},
     "output_type": "execute_result"
    }
   ],
   "source": [
    "data.append({'author': 'Einstein'})\n",
    "data"
   ]
  },
  {
   "cell_type": "markdown",
   "id": "15c5675e-5358-4804-974a-dad2a77a62a0",
   "metadata": {},
   "source": [
    "### insert()"
   ]
  },
  {
   "cell_type": "code",
   "execution_count": 63,
   "id": "eaf4bbd3-0e32-4fe5-bf49-3205fba55840",
   "metadata": {
    "tags": []
   },
   "outputs": [
    {
     "data": {
      "text/plain": [
       "[{'author': 'Einstein'},\n",
       " {'_id': 1,\n",
       "  'author': 'Albert Einstein',\n",
       "  'quote': 'Everything should be as simple as it can be, but not simpler!',\n",
       "  'source': None},\n",
       " {'_id': 2,\n",
       "  'author': 'Albert Einstein',\n",
       "  'quote': 'Logic will get you from A to Z; imagination will get you everywhere.',\n",
       "  'source': None},\n",
       " {'_id': 3,\n",
       "  'author': 'Albert Einstein',\n",
       "  'quote': 'Try not to become a man of success. Rather become a man of value.',\n",
       "  'source': None},\n",
       " {'_id': 4,\n",
       "  'author': 'Albert Einstein',\n",
       "  'quote': \"It is not that I'm so smart. But I stay with the questions much longer.\",\n",
       "  'source': None},\n",
       " {'author': 'Einstein'}]"
      ]
     },
     "execution_count": 63,
     "metadata": {},
     "output_type": "execute_result"
    }
   ],
   "source": [
    "data.insert(0, {'author': 'Einstein'})\n",
    "data"
   ]
  },
  {
   "cell_type": "markdown",
   "id": "f750f39b-9dff-4402-9bc5-1a1e679892af",
   "metadata": {},
   "source": [
    "### pop()"
   ]
  },
  {
   "cell_type": "code",
   "execution_count": 65,
   "id": "37ff7c0a-8aec-41a4-b6de-c4b6ff7c97ed",
   "metadata": {
    "tags": []
   },
   "outputs": [
    {
     "data": {
      "text/plain": [
       "{'_id': 1,\n",
       " 'author': 'Albert Einstein',\n",
       " 'quote': 'Everything should be as simple as it can be, but not simpler!',\n",
       " 'source': None}"
      ]
     },
     "execution_count": 65,
     "metadata": {},
     "output_type": "execute_result"
    }
   ],
   "source": [
    "data.pop(1)"
   ]
  },
  {
   "cell_type": "code",
   "execution_count": 124,
   "id": "f8466ff7-3230-4f3b-9e7e-580fa8d1c702",
   "metadata": {
    "tags": []
   },
   "outputs": [
    {
     "data": {
      "text/plain": [
       "[{'author': 'Einstein'},\n",
       " {'_id': 2,\n",
       "  'author': 'Albert Einstein',\n",
       "  'quote': 'Logic will get you from A to Z; imagination will get you everywhere.',\n",
       "  'source': None},\n",
       " {'_id': 3,\n",
       "  'author': 'Albert Einstein',\n",
       "  'quote': 'Try not to become a man of success. Rather become a man of value.',\n",
       "  'source': None},\n",
       " {'_id': 4,\n",
       "  'author': 'Albert Einstein',\n",
       "  'quote': \"It is not that I'm so smart. But I stay with the questions much longer.\",\n",
       "  'source': None},\n",
       " {'author': 'Einstein'}]"
      ]
     },
     "execution_count": 124,
     "metadata": {},
     "output_type": "execute_result"
    }
   ],
   "source": [
    "data"
   ]
  },
  {
   "cell_type": "markdown",
   "id": "9697d514-124f-4c1c-a571-549334982df5",
   "metadata": {},
   "source": [
    "### remove()"
   ]
  },
  {
   "cell_type": "code",
   "execution_count": 126,
   "id": "e0a5abed-7176-450f-85eb-592ad2941328",
   "metadata": {
    "tags": []
   },
   "outputs": [],
   "source": [
    "data.remove({'author': 'Einstein'})"
   ]
  },
  {
   "cell_type": "code",
   "execution_count": 128,
   "id": "37f99a47-b34a-453a-9b4e-2fae4c93e517",
   "metadata": {
    "tags": []
   },
   "outputs": [
    {
     "data": {
      "text/plain": [
       "[{'_id': 2,\n",
       "  'author': 'Albert Einstein',\n",
       "  'quote': 'Logic will get you from A to Z; imagination will get you everywhere.',\n",
       "  'source': None},\n",
       " {'_id': 3,\n",
       "  'author': 'Albert Einstein',\n",
       "  'quote': 'Try not to become a man of success. Rather become a man of value.',\n",
       "  'source': None},\n",
       " {'_id': 4,\n",
       "  'author': 'Albert Einstein',\n",
       "  'quote': \"It is not that I'm so smart. But I stay with the questions much longer.\",\n",
       "  'source': None},\n",
       " {'author': 'Einstein'}]"
      ]
     },
     "execution_count": 128,
     "metadata": {},
     "output_type": "execute_result"
    }
   ],
   "source": [
    "data"
   ]
  },
  {
   "cell_type": "markdown",
   "id": "a89b18e2-c576-47ef-bba7-69e6dfcdf7ca",
   "metadata": {},
   "source": [
    "### extend()"
   ]
  },
  {
   "cell_type": "code",
   "execution_count": 130,
   "id": "c2dba4ea-880a-42b7-9d79-9ec3ad0d9b80",
   "metadata": {
    "tags": []
   },
   "outputs": [],
   "source": [
    "extension = [\n",
    "    {\n",
    "    '_id': 5,\n",
    "    'author': 'Albert Einstein',\n",
    "    'quote': \"Everything shuld be as simple as it can be, but not simpler.\",\n",
    "    'source': None\n",
    "    },\n",
    "    {\n",
    "    '_id': 6,\n",
    "    'author': 'Albert Einstein',\n",
    "    'quote': \"Logic will get you from A to Z; imagination will get you everywhere.\",\n",
    "    'source': None\n",
    "    }    \n",
    "]"
   ]
  },
  {
   "cell_type": "code",
   "execution_count": 132,
   "id": "851435ce-5a04-4e7b-b32b-7a24ab555132",
   "metadata": {
    "tags": []
   },
   "outputs": [
    {
     "data": {
      "text/plain": [
       "[{'_id': 2,\n",
       "  'author': 'Albert Einstein',\n",
       "  'quote': 'Logic will get you from A to Z; imagination will get you everywhere.',\n",
       "  'source': None},\n",
       " {'_id': 3,\n",
       "  'author': 'Albert Einstein',\n",
       "  'quote': 'Try not to become a man of success. Rather become a man of value.',\n",
       "  'source': None},\n",
       " {'_id': 4,\n",
       "  'author': 'Albert Einstein',\n",
       "  'quote': \"It is not that I'm so smart. But I stay with the questions much longer.\",\n",
       "  'source': None},\n",
       " {'author': 'Einstein'},\n",
       " {'_id': 5,\n",
       "  'author': 'Albert Einstein',\n",
       "  'quote': 'Everything shuld be as simple as it can be, but not simpler.',\n",
       "  'source': None},\n",
       " {'_id': 6,\n",
       "  'author': 'Albert Einstein',\n",
       "  'quote': 'Logic will get you from A to Z; imagination will get you everywhere.',\n",
       "  'source': None}]"
      ]
     },
     "execution_count": 132,
     "metadata": {},
     "output_type": "execute_result"
    }
   ],
   "source": [
    "data.extend(extension)\n",
    "data"
   ]
  },
  {
   "cell_type": "markdown",
   "id": "bf1b9cb4-a1a2-476f-a925-5614175a8bbd",
   "metadata": {},
   "source": [
    "### reverse()"
   ]
  },
  {
   "cell_type": "code",
   "execution_count": 137,
   "id": "e0ce12fa-786a-4db4-901d-2197f310b8cc",
   "metadata": {
    "tags": []
   },
   "outputs": [
    {
     "data": {
      "text/plain": [
       "[{'_id': 6,\n",
       "  'author': 'Albert Einstein',\n",
       "  'quote': 'Logic will get you from A to Z; imagination will get you everywhere.',\n",
       "  'source': None},\n",
       " {'_id': 5,\n",
       "  'author': 'Albert Einstein',\n",
       "  'quote': 'Everything shuld be as simple as it can be, but not simpler.',\n",
       "  'source': None},\n",
       " {'author': 'Einstein'},\n",
       " {'_id': 4,\n",
       "  'author': 'Albert Einstein',\n",
       "  'quote': \"It is not that I'm so smart. But I stay with the questions much longer.\",\n",
       "  'source': None},\n",
       " {'_id': 3,\n",
       "  'author': 'Albert Einstein',\n",
       "  'quote': 'Try not to become a man of success. Rather become a man of value.',\n",
       "  'source': None},\n",
       " {'_id': 2,\n",
       "  'author': 'Albert Einstein',\n",
       "  'quote': 'Logic will get you from A to Z; imagination will get you everywhere.',\n",
       "  'source': None}]"
      ]
     },
     "execution_count": 137,
     "metadata": {},
     "output_type": "execute_result"
    }
   ],
   "source": [
    "data.reverse()\n",
    "data"
   ]
  },
  {
   "cell_type": "markdown",
   "id": "76b6ab54-a779-4d99-b1dd-a7c405d1b9f9",
   "metadata": {},
   "source": [
    "### copy()"
   ]
  },
  {
   "cell_type": "code",
   "execution_count": 140,
   "id": "3daefdaf-d750-48f1-b5ce-d8e04f2018b9",
   "metadata": {
    "tags": []
   },
   "outputs": [
    {
     "data": {
      "text/plain": [
       "[{'_id': 6,\n",
       "  'author': 'Albert Einstein',\n",
       "  'quote': 'Logic will get you from A to Z; imagination will get you everywhere.',\n",
       "  'source': None},\n",
       " {'_id': 5,\n",
       "  'author': 'Albert Einstein',\n",
       "  'quote': 'Everything shuld be as simple as it can be, but not simpler.',\n",
       "  'source': None},\n",
       " {'author': 'Einstein'},\n",
       " {'_id': 4,\n",
       "  'author': 'Albert Einstein',\n",
       "  'quote': \"It is not that I'm so smart. But I stay with the questions much longer.\",\n",
       "  'source': None},\n",
       " {'_id': 3,\n",
       "  'author': 'Albert Einstein',\n",
       "  'quote': 'Try not to become a man of success. Rather become a man of value.',\n",
       "  'source': None},\n",
       " {'_id': 2,\n",
       "  'author': 'Albert Einstein',\n",
       "  'quote': 'Logic will get you from A to Z; imagination will get you everywhere.',\n",
       "  'source': None}]"
      ]
     },
     "execution_count": 140,
     "metadata": {},
     "output_type": "execute_result"
    }
   ],
   "source": [
    "data2 = data.copy()\n",
    "data2"
   ]
  },
  {
   "cell_type": "markdown",
   "id": "4873c05a-9c28-4637-b1e5-da87bba155af",
   "metadata": {},
   "source": [
    "### clear()"
   ]
  },
  {
   "cell_type": "code",
   "execution_count": 142,
   "id": "f6f0b416-0168-4004-add0-a10a46b9e8a3",
   "metadata": {
    "tags": []
   },
   "outputs": [
    {
     "data": {
      "text/plain": [
       "[]"
      ]
     },
     "execution_count": 142,
     "metadata": {},
     "output_type": "execute_result"
    }
   ],
   "source": [
    "data.clear()\n",
    "data"
   ]
  },
  {
   "cell_type": "markdown",
   "id": "91c3caa2-1d6b-45f5-8bc1-f15346845cfe",
   "metadata": {},
   "source": [
    "## Dictionary Methods"
   ]
  },
  {
   "cell_type": "code",
   "execution_count": 145,
   "id": "8e27a160-88f1-4850-95f7-e2cb98afe739",
   "metadata": {
    "tags": []
   },
   "outputs": [
    {
     "data": {
      "text/plain": [
       "[{'_id': 1,\n",
       "  'author': 'Albert Einstein',\n",
       "  'quote': 'Everything should be as simple as it can be, but not simpler!',\n",
       "  'source': None},\n",
       " {'_id': 2,\n",
       "  'author': 'Albert Einstein',\n",
       "  'quote': 'Logic will get you from A to Z; imagination will get you everywhere.',\n",
       "  'source': None},\n",
       " {'_id': 3,\n",
       "  'author': 'Albert Einstein',\n",
       "  'quote': 'Try not to become a man of success. Rather become a man of value.',\n",
       "  'source': None},\n",
       " {'_id': 4,\n",
       "  'author': 'Albert Einstein',\n",
       "  'quote': \"It is not that I'm so smart. But I stay with the questions much longer.\",\n",
       "  'source': None}]"
      ]
     },
     "execution_count": 145,
     "metadata": {},
     "output_type": "execute_result"
    }
   ],
   "source": [
    "f = open('einstein_quotes.json', 'r')\n",
    "data = json.load(f)\n",
    "f.close()\n",
    "data"
   ]
  },
  {
   "cell_type": "markdown",
   "id": "e410b85c-868e-4580-a65d-78861e586d9a",
   "metadata": {},
   "source": [
    "### clear()"
   ]
  },
  {
   "cell_type": "code",
   "execution_count": 154,
   "id": "7cedb00b-0178-46e7-9f4d-69edfb6de542",
   "metadata": {
    "tags": []
   },
   "outputs": [
    {
     "data": {
      "text/plain": [
       "[{},\n",
       " {'_id': 2,\n",
       "  'author': 'Albert Einstein',\n",
       "  'quote': 'Logic will get you from A to Z; imagination will get you everywhere.',\n",
       "  'source': None},\n",
       " {'_id': 3,\n",
       "  'author': 'Albert Einstein',\n",
       "  'quote': 'Try not to become a man of success. Rather become a man of value.',\n",
       "  'source': None},\n",
       " {'_id': 4,\n",
       "  'author': 'Albert Einstein',\n",
       "  'quote': \"It is not that I'm so smart. But I stay with the questions much longer.\",\n",
       "  'source': None}]"
      ]
     },
     "execution_count": 154,
     "metadata": {},
     "output_type": "execute_result"
    }
   ],
   "source": [
    "data[0].clear()\n",
    "data"
   ]
  },
  {
   "cell_type": "markdown",
   "id": "538081f1-b720-4908-9b7a-55ae51d6d5cf",
   "metadata": {},
   "source": [
    "### copy()"
   ]
  },
  {
   "cell_type": "code",
   "execution_count": 156,
   "id": "f5d4d6d4-1687-4fec-a1dc-63c05f693971",
   "metadata": {
    "tags": []
   },
   "outputs": [
    {
     "data": {
      "text/plain": [
       "{'_id': 2,\n",
       " 'author': 'Albert Einstein',\n",
       " 'quote': 'Logic will get you from A to Z; imagination will get you everywhere.',\n",
       " 'source': None}"
      ]
     },
     "execution_count": 156,
     "metadata": {},
     "output_type": "execute_result"
    }
   ],
   "source": [
    "data2 = data[1].copy()\n",
    "data2"
   ]
  },
  {
   "cell_type": "code",
   "execution_count": null,
   "id": "a4b32e44-0f05-4d03-a4a6-e09abfdd636e",
   "metadata": {},
   "outputs": [],
   "source": []
  },
  {
   "cell_type": "markdown",
   "id": "b8e58ff6-f1a1-4582-82ab-2b3f3d8f9574",
   "metadata": {},
   "source": [
    "### items()"
   ]
  },
  {
   "cell_type": "code",
   "execution_count": 158,
   "id": "30a42d77-232c-4cd9-86c5-f55626a959da",
   "metadata": {
    "tags": []
   },
   "outputs": [
    {
     "data": {
      "text/plain": [
       "dict_items([('_id', 2), ('author', 'Albert Einstein'), ('quote', 'Logic will get you from A to Z; imagination will get you everywhere.'), ('source', None)])"
      ]
     },
     "execution_count": 158,
     "metadata": {},
     "output_type": "execute_result"
    }
   ],
   "source": [
    "data[1].items()"
   ]
  },
  {
   "cell_type": "code",
   "execution_count": 160,
   "id": "82cd9c5b-149c-4be4-a26a-7356f5b5a08b",
   "metadata": {
    "tags": []
   },
   "outputs": [
    {
     "data": {
      "text/plain": [
       "dict_items"
      ]
     },
     "execution_count": 160,
     "metadata": {},
     "output_type": "execute_result"
    }
   ],
   "source": [
    "type(data[1].items())"
   ]
  },
  {
   "cell_type": "code",
   "execution_count": 162,
   "id": "dce6ed74-b6ff-4e8d-a994-3783d581d889",
   "metadata": {
    "tags": []
   },
   "outputs": [
    {
     "data": {
      "text/plain": [
       "[('_id', 2),\n",
       " ('author', 'Albert Einstein'),\n",
       " ('quote',\n",
       "  'Logic will get you from A to Z; imagination will get you everywhere.'),\n",
       " ('source', None)]"
      ]
     },
     "execution_count": 162,
     "metadata": {},
     "output_type": "execute_result"
    }
   ],
   "source": [
    "list(data[1].items())"
   ]
  },
  {
   "cell_type": "markdown",
   "id": "74dcfac1-37af-4723-9a61-f0f177c03dc1",
   "metadata": {},
   "source": [
    "### pop()"
   ]
  },
  {
   "cell_type": "code",
   "execution_count": 164,
   "id": "f396f678-49aa-47c0-a68b-75ef4af4552c",
   "metadata": {
    "tags": []
   },
   "outputs": [
    {
     "data": {
      "text/plain": [
       "[{},\n",
       " {'_id': 2,\n",
       "  'quote': 'Logic will get you from A to Z; imagination will get you everywhere.',\n",
       "  'source': None},\n",
       " {'_id': 3,\n",
       "  'author': 'Albert Einstein',\n",
       "  'quote': 'Try not to become a man of success. Rather become a man of value.',\n",
       "  'source': None},\n",
       " {'_id': 4,\n",
       "  'author': 'Albert Einstein',\n",
       "  'quote': \"It is not that I'm so smart. But I stay with the questions much longer.\",\n",
       "  'source': None}]"
      ]
     },
     "execution_count": 164,
     "metadata": {},
     "output_type": "execute_result"
    }
   ],
   "source": [
    "data[1].pop('author')\n",
    "data"
   ]
  },
  {
   "cell_type": "markdown",
   "id": "e5882ec6-936b-4d0a-8509-66ad595db1a5",
   "metadata": {},
   "source": [
    "### popitem()"
   ]
  },
  {
   "cell_type": "code",
   "execution_count": 166,
   "id": "0e62a6ae-d73c-4ab5-92a8-3451d5ed6eb1",
   "metadata": {
    "tags": []
   },
   "outputs": [
    {
     "data": {
      "text/plain": [
       "[{},\n",
       " {'_id': 2,\n",
       "  'quote': 'Logic will get you from A to Z; imagination will get you everywhere.',\n",
       "  'source': None},\n",
       " {'_id': 3,\n",
       "  'author': 'Albert Einstein',\n",
       "  'quote': 'Try not to become a man of success. Rather become a man of value.'},\n",
       " {'_id': 4,\n",
       "  'author': 'Albert Einstein',\n",
       "  'quote': \"It is not that I'm so smart. But I stay with the questions much longer.\",\n",
       "  'source': None}]"
      ]
     },
     "execution_count": 166,
     "metadata": {},
     "output_type": "execute_result"
    }
   ],
   "source": [
    "# removes last key value pair\n",
    "data[2].popitem()\n",
    "data"
   ]
  },
  {
   "cell_type": "code",
   "execution_count": 168,
   "id": "85aa14f7-d4e1-4608-b5cb-b75e888b534c",
   "metadata": {
    "tags": []
   },
   "outputs": [
    {
     "data": {
      "text/plain": [
       "{'_id': 3,\n",
       " 'author': 'Albert Einstein',\n",
       " 'quote': 'Try not to become a man of success. Rather become a man of value.'}"
      ]
     },
     "execution_count": 168,
     "metadata": {},
     "output_type": "execute_result"
    }
   ],
   "source": [
    "data[2]"
   ]
  },
  {
   "cell_type": "markdown",
   "id": "0a276a1d-238d-41c4-87b0-c29cd97059fc",
   "metadata": {},
   "source": [
    "### setdefault()"
   ]
  },
  {
   "cell_type": "code",
   "execution_count": 170,
   "id": "9b05d59b-c575-40a3-ba34-be9fba00be1c",
   "metadata": {
    "tags": []
   },
   "outputs": [
    {
     "data": {
      "text/plain": [
       "'Albert Einstein'"
      ]
     },
     "execution_count": 170,
     "metadata": {},
     "output_type": "execute_result"
    }
   ],
   "source": [
    "data[2].setdefault('author', 'Einstein')"
   ]
  },
  {
   "cell_type": "code",
   "execution_count": 172,
   "id": "c70db2bb-5803-4610-a722-d5f8845dadd7",
   "metadata": {
    "tags": []
   },
   "outputs": [
    {
     "data": {
      "text/plain": [
       "[{},\n",
       " {'_id': 2,\n",
       "  'quote': 'Logic will get you from A to Z; imagination will get you everywhere.',\n",
       "  'source': None,\n",
       "  'author': 'Einstein'},\n",
       " {'_id': 3,\n",
       "  'author': 'Albert Einstein',\n",
       "  'quote': 'Try not to become a man of success. Rather become a man of value.'},\n",
       " {'_id': 4,\n",
       "  'author': 'Albert Einstein',\n",
       "  'quote': \"It is not that I'm so smart. But I stay with the questions much longer.\",\n",
       "  'source': None}]"
      ]
     },
     "execution_count": 172,
     "metadata": {},
     "output_type": "execute_result"
    }
   ],
   "source": [
    "data[1].setdefault('author', 'Einstein')\n",
    "data"
   ]
  },
  {
   "cell_type": "markdown",
   "id": "00739391-991a-499a-bdae-6accd0adc730",
   "metadata": {},
   "source": [
    "### update()"
   ]
  },
  {
   "cell_type": "code",
   "execution_count": 176,
   "id": "fb4c2c19-bfc5-4ec5-82d1-523419de4db4",
   "metadata": {
    "tags": []
   },
   "outputs": [
    {
     "data": {
      "text/plain": [
       "[{},\n",
       " {'_id': 2,\n",
       "  'quote': 'Logic will get you from A to Z; imagination will get you everywhere.',\n",
       "  'source': None,\n",
       "  'author': 'Einstein'},\n",
       " {'_id': 3,\n",
       "  'author': 'Albert Einstein',\n",
       "  'quote': 'Try not to become a man of success. Rather become a man of value.'},\n",
       " {'_id': 4,\n",
       "  'author': 'Albert Einstein',\n",
       "  'quote': \"It is not that I'm so smart. But I stay with the questions much longer.\",\n",
       "  'source': None,\n",
       "  'birthdate': '1894-03-14'}]"
      ]
     },
     "execution_count": 176,
     "metadata": {},
     "output_type": "execute_result"
    }
   ],
   "source": [
    "data[3].update({'birthdate': '1894-03-14'})\n",
    "data"
   ]
  },
  {
   "cell_type": "code",
   "execution_count": 178,
   "id": "ce5af99f-47be-4080-a0de-45c6f74c3dd3",
   "metadata": {
    "tags": []
   },
   "outputs": [
    {
     "data": {
      "text/plain": [
       "[{},\n",
       " {'_id': 2,\n",
       "  'quote': 'Logic will get you from A to Z; imagination will get you everywhere.',\n",
       "  'source': None,\n",
       "  'author': 'Einstein'},\n",
       " {'_id': 3,\n",
       "  'author': 'Albert Einstein',\n",
       "  'quote': 'Try not to become a man of success. Rather become a man of value.'},\n",
       " {'_id': 4,\n",
       "  'author': 'Albert Einstein',\n",
       "  'quote': 'change the quote',\n",
       "  'source': None,\n",
       "  'birthdate': '1894-03-14'}]"
      ]
     },
     "execution_count": 178,
     "metadata": {},
     "output_type": "execute_result"
    }
   ],
   "source": [
    "data[3].update({'quote': 'change the quote'})\n",
    "data"
   ]
  },
  {
   "cell_type": "markdown",
   "id": "3cb81226-fe97-4a5d-9b0f-65053b78b570",
   "metadata": {},
   "source": [
    "## Normalize json for pandas"
   ]
  },
  {
   "cell_type": "code",
   "execution_count": 187,
   "id": "f3fc86a0-63d8-437d-a0b3-1886af675200",
   "metadata": {
    "tags": []
   },
   "outputs": [],
   "source": [
    "import json\n",
    "f = open('sea_level_rise.json', 'r')\n",
    "data = json.load(f)\n",
    "f.close()"
   ]
  },
  {
   "cell_type": "code",
   "execution_count": 189,
   "id": "9bba337c-1f35-4801-8586-665123fc7df1",
   "metadata": {
    "tags": []
   },
   "outputs": [
    {
     "data": {
      "text/html": [
       "<div>\n",
       "<style scoped>\n",
       "    .dataframe tbody tr th:only-of-type {\n",
       "        vertical-align: middle;\n",
       "    }\n",
       "\n",
       "    .dataframe tbody tr th {\n",
       "        vertical-align: top;\n",
       "    }\n",
       "\n",
       "    .dataframe thead th {\n",
       "        text-align: right;\n",
       "    }\n",
       "</style>\n",
       "<table border=\"1\" class=\"dataframe\">\n",
       "  <thead>\n",
       "    <tr style=\"text-align: right;\">\n",
       "      <th></th>\n",
       "      <th>data</th>\n",
       "      <th>meta.view.id</th>\n",
       "      <th>meta.view.name</th>\n",
       "      <th>meta.view.assetType</th>\n",
       "      <th>meta.view.attribution</th>\n",
       "      <th>meta.view.attributionLink</th>\n",
       "      <th>meta.view.averageRating</th>\n",
       "      <th>meta.view.category</th>\n",
       "      <th>meta.view.createdAt</th>\n",
       "      <th>meta.view.description</th>\n",
       "      <th>...</th>\n",
       "      <th>meta.view.owner.type</th>\n",
       "      <th>meta.view.owner.flags</th>\n",
       "      <th>meta.view.rights</th>\n",
       "      <th>meta.view.tableAuthor.id</th>\n",
       "      <th>meta.view.tableAuthor.displayName</th>\n",
       "      <th>meta.view.tableAuthor.screenName</th>\n",
       "      <th>meta.view.tableAuthor.type</th>\n",
       "      <th>meta.view.tableAuthor.flags</th>\n",
       "      <th>meta.view.tags</th>\n",
       "      <th>meta.view.flags</th>\n",
       "    </tr>\n",
       "  </thead>\n",
       "  <tbody>\n",
       "    <tr>\n",
       "      <th>0</th>\n",
       "      <td>[[row-q28d.27v6-9f5h, 00000000-0000-0000-C94D-...</td>\n",
       "      <td>esku-ejgv</td>\n",
       "      <td>100-Year Storm + 24\" Sea Level Rise</td>\n",
       "      <td>dataset</td>\n",
       "      <td>BCDC</td>\n",
       "      <td>https://explorer.adaptingtorisingtides.org/home</td>\n",
       "      <td>0</td>\n",
       "      <td>Public Safety</td>\n",
       "      <td>1582651989</td>\n",
       "      <td>This data originates from San Francisco Bay Co...</td>\n",
       "      <td>...</td>\n",
       "      <td>interactive</td>\n",
       "      <td>[acceptedEula]</td>\n",
       "      <td>[read]</td>\n",
       "      <td>rtw4-hi68</td>\n",
       "      <td>Alex Morrison</td>\n",
       "      <td>Alex Morrison</td>\n",
       "      <td>interactive</td>\n",
       "      <td>[acceptedEula]</td>\n",
       "      <td>[hcr]</td>\n",
       "      <td>[default, ownerMayBeContacted, restorable, res...</td>\n",
       "    </tr>\n",
       "  </tbody>\n",
       "</table>\n",
       "<p>1 rows × 52 columns</p>\n",
       "</div>"
      ],
      "text/plain": [
       "                                                data meta.view.id  \\\n",
       "0  [[row-q28d.27v6-9f5h, 00000000-0000-0000-C94D-...    esku-ejgv   \n",
       "\n",
       "                        meta.view.name meta.view.assetType  \\\n",
       "0  100-Year Storm + 24\" Sea Level Rise             dataset   \n",
       "\n",
       "  meta.view.attribution                        meta.view.attributionLink  \\\n",
       "0                  BCDC  https://explorer.adaptingtorisingtides.org/home   \n",
       "\n",
       "   meta.view.averageRating meta.view.category  meta.view.createdAt  \\\n",
       "0                        0      Public Safety           1582651989   \n",
       "\n",
       "                               meta.view.description  ...  \\\n",
       "0  This data originates from San Francisco Bay Co...  ...   \n",
       "\n",
       "  meta.view.owner.type  meta.view.owner.flags  meta.view.rights  \\\n",
       "0          interactive         [acceptedEula]            [read]   \n",
       "\n",
       "   meta.view.tableAuthor.id  meta.view.tableAuthor.displayName  \\\n",
       "0                 rtw4-hi68                      Alex Morrison   \n",
       "\n",
       "   meta.view.tableAuthor.screenName  meta.view.tableAuthor.type  \\\n",
       "0                     Alex Morrison                 interactive   \n",
       "\n",
       "  meta.view.tableAuthor.flags  meta.view.tags  \\\n",
       "0              [acceptedEula]           [hcr]   \n",
       "\n",
       "                                     meta.view.flags  \n",
       "0  [default, ownerMayBeContacted, restorable, res...  \n",
       "\n",
       "[1 rows x 52 columns]"
      ]
     },
     "execution_count": 189,
     "metadata": {},
     "output_type": "execute_result"
    }
   ],
   "source": [
    "df = pd.json_normalize(data)\n",
    "df"
   ]
  },
  {
   "cell_type": "markdown",
   "id": "bb0c78c2-e560-401a-9177-0f848f3e41d2",
   "metadata": {},
   "source": [
    "### record_path argument"
   ]
  },
  {
   "cell_type": "code",
   "execution_count": 193,
   "id": "8a3a3af0-8bc3-4195-b439-b6d25fe55676",
   "metadata": {
    "tags": []
   },
   "outputs": [
    {
     "data": {
      "text/html": [
       "<div>\n",
       "<style scoped>\n",
       "    .dataframe tbody tr th:only-of-type {\n",
       "        vertical-align: middle;\n",
       "    }\n",
       "\n",
       "    .dataframe tbody tr th {\n",
       "        vertical-align: top;\n",
       "    }\n",
       "\n",
       "    .dataframe thead th {\n",
       "        text-align: right;\n",
       "    }\n",
       "</style>\n",
       "<table border=\"1\" class=\"dataframe\">\n",
       "  <thead>\n",
       "    <tr style=\"text-align: right;\">\n",
       "      <th></th>\n",
       "      <th>0</th>\n",
       "      <th>1</th>\n",
       "      <th>2</th>\n",
       "      <th>3</th>\n",
       "      <th>4</th>\n",
       "      <th>5</th>\n",
       "      <th>6</th>\n",
       "      <th>7</th>\n",
       "      <th>8</th>\n",
       "      <th>9</th>\n",
       "      <th>10</th>\n",
       "      <th>11</th>\n",
       "      <th>12</th>\n",
       "    </tr>\n",
       "  </thead>\n",
       "  <tbody>\n",
       "    <tr>\n",
       "      <th>0</th>\n",
       "      <td>row-q28d.27v6-9f5h</td>\n",
       "      <td>00000000-0000-0000-C94D-CEF7ABC1DF4E</td>\n",
       "      <td>0</td>\n",
       "      <td>1582656196</td>\n",
       "      <td>None</td>\n",
       "      <td>1582656196</td>\n",
       "      <td>None</td>\n",
       "      <td>{ }</td>\n",
       "      <td>MULTIPOLYGON (((-122.39340451043492 37.7082709...</td>\n",
       "      <td>1</td>\n",
       "      <td>None</td>\n",
       "      <td>403497.407074</td>\n",
       "      <td>5109724.35419</td>\n",
       "    </tr>\n",
       "    <tr>\n",
       "      <th>1</th>\n",
       "      <td>row-cghi-7qw3_w8q7</td>\n",
       "      <td>00000000-0000-0000-7EAE-0CC6453E9A04</td>\n",
       "      <td>0</td>\n",
       "      <td>1582656196</td>\n",
       "      <td>None</td>\n",
       "      <td>1582656196</td>\n",
       "      <td>None</td>\n",
       "      <td>{ }</td>\n",
       "      <td>MULTIPOLYGON (((-122.3933817480972 37.70827985...</td>\n",
       "      <td>2</td>\n",
       "      <td>None</td>\n",
       "      <td>219147.103346</td>\n",
       "      <td>794145.707602</td>\n",
       "    </tr>\n",
       "    <tr>\n",
       "      <th>2</th>\n",
       "      <td>row-2mj3-iidx.ww5b</td>\n",
       "      <td>00000000-0000-0000-B701-B26A64CD77D6</td>\n",
       "      <td>0</td>\n",
       "      <td>1582656196</td>\n",
       "      <td>None</td>\n",
       "      <td>1582656196</td>\n",
       "      <td>None</td>\n",
       "      <td>{ }</td>\n",
       "      <td>MULTIPOLYGON (((-122.39236645792793 37.6997140...</td>\n",
       "      <td>3</td>\n",
       "      <td>None</td>\n",
       "      <td>103724.875386</td>\n",
       "      <td>206087.884076</td>\n",
       "    </tr>\n",
       "    <tr>\n",
       "      <th>3</th>\n",
       "      <td>row-sxi6.ix49_8z8p</td>\n",
       "      <td>00000000-0000-0000-72A3-7649F9FF2FDE</td>\n",
       "      <td>0</td>\n",
       "      <td>1582656196</td>\n",
       "      <td>None</td>\n",
       "      <td>1582656196</td>\n",
       "      <td>None</td>\n",
       "      <td>{ }</td>\n",
       "      <td>MULTIPOLYGON (((-122.38167178195368 37.7115856...</td>\n",
       "      <td>4</td>\n",
       "      <td>None</td>\n",
       "      <td>14324.6565348</td>\n",
       "      <td>65613.6489693</td>\n",
       "    </tr>\n",
       "    <tr>\n",
       "      <th>4</th>\n",
       "      <td>row-ybre~jfpf~e8pe</td>\n",
       "      <td>00000000-0000-0000-E142-2963FA37BC47</td>\n",
       "      <td>0</td>\n",
       "      <td>1582656196</td>\n",
       "      <td>None</td>\n",
       "      <td>1582656196</td>\n",
       "      <td>None</td>\n",
       "      <td>{ }</td>\n",
       "      <td>MULTIPOLYGON (((-122.36361154704703 37.7190288...</td>\n",
       "      <td>5</td>\n",
       "      <td>None</td>\n",
       "      <td>6305.14575212</td>\n",
       "      <td>6559.42001802</td>\n",
       "    </tr>\n",
       "    <tr>\n",
       "      <th>5</th>\n",
       "      <td>row-xazf-59va_ih27</td>\n",
       "      <td>00000000-0000-0000-1A01-86FD3A7CADD9</td>\n",
       "      <td>0</td>\n",
       "      <td>1582656196</td>\n",
       "      <td>None</td>\n",
       "      <td>1582656196</td>\n",
       "      <td>None</td>\n",
       "      <td>{ }</td>\n",
       "      <td>MULTIPOLYGON (((-122.36358900923197 37.7190107...</td>\n",
       "      <td>6</td>\n",
       "      <td>None</td>\n",
       "      <td>3775.37755422</td>\n",
       "      <td>6220.48975269</td>\n",
       "    </tr>\n",
       "    <tr>\n",
       "      <th>6</th>\n",
       "      <td>row-fqce_m6u8_p6iy</td>\n",
       "      <td>00000000-0000-0000-9D29-72572931FE29</td>\n",
       "      <td>0</td>\n",
       "      <td>1582656196</td>\n",
       "      <td>None</td>\n",
       "      <td>1582656196</td>\n",
       "      <td>None</td>\n",
       "      <td>{ }</td>\n",
       "      <td>MULTIPOLYGON (((-122.36506748482017 37.7252558...</td>\n",
       "      <td>7</td>\n",
       "      <td>None</td>\n",
       "      <td>1956.61676588</td>\n",
       "      <td>9708.36506382</td>\n",
       "    </tr>\n",
       "  </tbody>\n",
       "</table>\n",
       "</div>"
      ],
      "text/plain": [
       "                   0                                     1   2           3   \\\n",
       "0  row-q28d.27v6-9f5h  00000000-0000-0000-C94D-CEF7ABC1DF4E   0  1582656196   \n",
       "1  row-cghi-7qw3_w8q7  00000000-0000-0000-7EAE-0CC6453E9A04   0  1582656196   \n",
       "2  row-2mj3-iidx.ww5b  00000000-0000-0000-B701-B26A64CD77D6   0  1582656196   \n",
       "3  row-sxi6.ix49_8z8p  00000000-0000-0000-72A3-7649F9FF2FDE   0  1582656196   \n",
       "4  row-ybre~jfpf~e8pe  00000000-0000-0000-E142-2963FA37BC47   0  1582656196   \n",
       "5  row-xazf-59va_ih27  00000000-0000-0000-1A01-86FD3A7CADD9   0  1582656196   \n",
       "6  row-fqce_m6u8_p6iy  00000000-0000-0000-9D29-72572931FE29   0  1582656196   \n",
       "\n",
       "     4           5     6    7   \\\n",
       "0  None  1582656196  None  { }   \n",
       "1  None  1582656196  None  { }   \n",
       "2  None  1582656196  None  { }   \n",
       "3  None  1582656196  None  { }   \n",
       "4  None  1582656196  None  { }   \n",
       "5  None  1582656196  None  { }   \n",
       "6  None  1582656196  None  { }   \n",
       "\n",
       "                                                  8  9     10             11  \\\n",
       "0  MULTIPOLYGON (((-122.39340451043492 37.7082709...  1  None  403497.407074   \n",
       "1  MULTIPOLYGON (((-122.3933817480972 37.70827985...  2  None  219147.103346   \n",
       "2  MULTIPOLYGON (((-122.39236645792793 37.6997140...  3  None  103724.875386   \n",
       "3  MULTIPOLYGON (((-122.38167178195368 37.7115856...  4  None  14324.6565348   \n",
       "4  MULTIPOLYGON (((-122.36361154704703 37.7190288...  5  None  6305.14575212   \n",
       "5  MULTIPOLYGON (((-122.36358900923197 37.7190107...  6  None  3775.37755422   \n",
       "6  MULTIPOLYGON (((-122.36506748482017 37.7252558...  7  None  1956.61676588   \n",
       "\n",
       "              12  \n",
       "0  5109724.35419  \n",
       "1  794145.707602  \n",
       "2  206087.884076  \n",
       "3  65613.6489693  \n",
       "4  6559.42001802  \n",
       "5  6220.48975269  \n",
       "6  9708.36506382  "
      ]
     },
     "execution_count": 193,
     "metadata": {},
     "output_type": "execute_result"
    }
   ],
   "source": [
    "df = pd.json_normalize(data, record_path='data')\n",
    "df"
   ]
  },
  {
   "cell_type": "code",
   "execution_count": 195,
   "id": "ba0ccd43-b829-4552-8f31-d585624e8798",
   "metadata": {
    "tags": []
   },
   "outputs": [
    {
     "data": {
      "text/html": [
       "<div>\n",
       "<style scoped>\n",
       "    .dataframe tbody tr th:only-of-type {\n",
       "        vertical-align: middle;\n",
       "    }\n",
       "\n",
       "    .dataframe tbody tr th {\n",
       "        vertical-align: top;\n",
       "    }\n",
       "\n",
       "    .dataframe thead th {\n",
       "        text-align: right;\n",
       "    }\n",
       "</style>\n",
       "<table border=\"1\" class=\"dataframe\">\n",
       "  <thead>\n",
       "    <tr style=\"text-align: right;\">\n",
       "      <th></th>\n",
       "      <th>id</th>\n",
       "      <th>name</th>\n",
       "      <th>dataTypeName</th>\n",
       "      <th>fieldName</th>\n",
       "      <th>position</th>\n",
       "      <th>renderTypeName</th>\n",
       "      <th>flags</th>\n",
       "      <th>description</th>\n",
       "      <th>tableColumnId</th>\n",
       "      <th>cachedContents.non_null</th>\n",
       "      <th>cachedContents.largest</th>\n",
       "      <th>cachedContents.null</th>\n",
       "      <th>cachedContents.top</th>\n",
       "      <th>cachedContents.smallest</th>\n",
       "      <th>cachedContents.cardinality</th>\n",
       "    </tr>\n",
       "  </thead>\n",
       "  <tbody>\n",
       "    <tr>\n",
       "      <th>0</th>\n",
       "      <td>-1</td>\n",
       "      <td>sid</td>\n",
       "      <td>meta_data</td>\n",
       "      <td>:sid</td>\n",
       "      <td>0</td>\n",
       "      <td>meta_data</td>\n",
       "      <td>[hidden]</td>\n",
       "      <td>NaN</td>\n",
       "      <td>NaN</td>\n",
       "      <td>NaN</td>\n",
       "      <td>NaN</td>\n",
       "      <td>NaN</td>\n",
       "      <td>NaN</td>\n",
       "      <td>NaN</td>\n",
       "      <td>NaN</td>\n",
       "    </tr>\n",
       "    <tr>\n",
       "      <th>1</th>\n",
       "      <td>-1</td>\n",
       "      <td>id</td>\n",
       "      <td>meta_data</td>\n",
       "      <td>:id</td>\n",
       "      <td>0</td>\n",
       "      <td>meta_data</td>\n",
       "      <td>[hidden]</td>\n",
       "      <td>NaN</td>\n",
       "      <td>NaN</td>\n",
       "      <td>NaN</td>\n",
       "      <td>NaN</td>\n",
       "      <td>NaN</td>\n",
       "      <td>NaN</td>\n",
       "      <td>NaN</td>\n",
       "      <td>NaN</td>\n",
       "    </tr>\n",
       "    <tr>\n",
       "      <th>2</th>\n",
       "      <td>-1</td>\n",
       "      <td>position</td>\n",
       "      <td>meta_data</td>\n",
       "      <td>:position</td>\n",
       "      <td>0</td>\n",
       "      <td>meta_data</td>\n",
       "      <td>[hidden]</td>\n",
       "      <td>NaN</td>\n",
       "      <td>NaN</td>\n",
       "      <td>NaN</td>\n",
       "      <td>NaN</td>\n",
       "      <td>NaN</td>\n",
       "      <td>NaN</td>\n",
       "      <td>NaN</td>\n",
       "      <td>NaN</td>\n",
       "    </tr>\n",
       "    <tr>\n",
       "      <th>3</th>\n",
       "      <td>-1</td>\n",
       "      <td>created_at</td>\n",
       "      <td>meta_data</td>\n",
       "      <td>:created_at</td>\n",
       "      <td>0</td>\n",
       "      <td>meta_data</td>\n",
       "      <td>[hidden]</td>\n",
       "      <td>NaN</td>\n",
       "      <td>NaN</td>\n",
       "      <td>NaN</td>\n",
       "      <td>NaN</td>\n",
       "      <td>NaN</td>\n",
       "      <td>NaN</td>\n",
       "      <td>NaN</td>\n",
       "      <td>NaN</td>\n",
       "    </tr>\n",
       "    <tr>\n",
       "      <th>4</th>\n",
       "      <td>-1</td>\n",
       "      <td>created_meta</td>\n",
       "      <td>meta_data</td>\n",
       "      <td>:created_meta</td>\n",
       "      <td>0</td>\n",
       "      <td>meta_data</td>\n",
       "      <td>[hidden]</td>\n",
       "      <td>NaN</td>\n",
       "      <td>NaN</td>\n",
       "      <td>NaN</td>\n",
       "      <td>NaN</td>\n",
       "      <td>NaN</td>\n",
       "      <td>NaN</td>\n",
       "      <td>NaN</td>\n",
       "      <td>NaN</td>\n",
       "    </tr>\n",
       "    <tr>\n",
       "      <th>5</th>\n",
       "      <td>-1</td>\n",
       "      <td>updated_at</td>\n",
       "      <td>meta_data</td>\n",
       "      <td>:updated_at</td>\n",
       "      <td>0</td>\n",
       "      <td>meta_data</td>\n",
       "      <td>[hidden]</td>\n",
       "      <td>NaN</td>\n",
       "      <td>NaN</td>\n",
       "      <td>NaN</td>\n",
       "      <td>NaN</td>\n",
       "      <td>NaN</td>\n",
       "      <td>NaN</td>\n",
       "      <td>NaN</td>\n",
       "      <td>NaN</td>\n",
       "    </tr>\n",
       "    <tr>\n",
       "      <th>6</th>\n",
       "      <td>-1</td>\n",
       "      <td>updated_meta</td>\n",
       "      <td>meta_data</td>\n",
       "      <td>:updated_meta</td>\n",
       "      <td>0</td>\n",
       "      <td>meta_data</td>\n",
       "      <td>[hidden]</td>\n",
       "      <td>NaN</td>\n",
       "      <td>NaN</td>\n",
       "      <td>NaN</td>\n",
       "      <td>NaN</td>\n",
       "      <td>NaN</td>\n",
       "      <td>NaN</td>\n",
       "      <td>NaN</td>\n",
       "      <td>NaN</td>\n",
       "    </tr>\n",
       "    <tr>\n",
       "      <th>7</th>\n",
       "      <td>-1</td>\n",
       "      <td>meta</td>\n",
       "      <td>meta_data</td>\n",
       "      <td>:meta</td>\n",
       "      <td>0</td>\n",
       "      <td>meta_data</td>\n",
       "      <td>[hidden]</td>\n",
       "      <td>NaN</td>\n",
       "      <td>NaN</td>\n",
       "      <td>NaN</td>\n",
       "      <td>NaN</td>\n",
       "      <td>NaN</td>\n",
       "      <td>NaN</td>\n",
       "      <td>NaN</td>\n",
       "      <td>NaN</td>\n",
       "    </tr>\n",
       "    <tr>\n",
       "      <th>8</th>\n",
       "      <td>453003560</td>\n",
       "      <td>the_geom</td>\n",
       "      <td>multipolygon</td>\n",
       "      <td>the_geom</td>\n",
       "      <td>1</td>\n",
       "      <td>multipolygon</td>\n",
       "      <td>NaN</td>\n",
       "      <td>Location Geometry</td>\n",
       "      <td>95163781.0</td>\n",
       "      <td>NaN</td>\n",
       "      <td>NaN</td>\n",
       "      <td>NaN</td>\n",
       "      <td>NaN</td>\n",
       "      <td>NaN</td>\n",
       "      <td>NaN</td>\n",
       "    </tr>\n",
       "    <tr>\n",
       "      <th>9</th>\n",
       "      <td>453003561</td>\n",
       "      <td>gridcode</td>\n",
       "      <td>number</td>\n",
       "      <td>gridcode</td>\n",
       "      <td>2</td>\n",
       "      <td>number</td>\n",
       "      <td>NaN</td>\n",
       "      <td>Gridcode from original raster (N/A)</td>\n",
       "      <td>95163782.0</td>\n",
       "      <td>7</td>\n",
       "      <td>7</td>\n",
       "      <td>0</td>\n",
       "      <td>[{'item': '1', 'count': '1'}, {'item': '4', 'c...</td>\n",
       "      <td>1</td>\n",
       "      <td>7</td>\n",
       "    </tr>\n",
       "    <tr>\n",
       "      <th>10</th>\n",
       "      <td>453003565</td>\n",
       "      <td>DEPTH_FT</td>\n",
       "      <td>text</td>\n",
       "      <td>depth_ft</td>\n",
       "      <td>3</td>\n",
       "      <td>text</td>\n",
       "      <td>NaN</td>\n",
       "      <td>Depth of original raster (N/A)</td>\n",
       "      <td>95163783.0</td>\n",
       "      <td>0</td>\n",
       "      <td>NaN</td>\n",
       "      <td>7</td>\n",
       "      <td>NaN</td>\n",
       "      <td>NaN</td>\n",
       "      <td>0</td>\n",
       "    </tr>\n",
       "    <tr>\n",
       "      <th>11</th>\n",
       "      <td>453003585</td>\n",
       "      <td>Shape_Leng</td>\n",
       "      <td>number</td>\n",
       "      <td>shape_leng</td>\n",
       "      <td>4</td>\n",
       "      <td>number</td>\n",
       "      <td>NaN</td>\n",
       "      <td>Planar lengths of the polygon</td>\n",
       "      <td>95163784.0</td>\n",
       "      <td>7</td>\n",
       "      <td>403497.407074</td>\n",
       "      <td>0</td>\n",
       "      <td>[{'item': '14324.6565348', 'count': '1'}, {'it...</td>\n",
       "      <td>1956.61676588</td>\n",
       "      <td>7</td>\n",
       "    </tr>\n",
       "    <tr>\n",
       "      <th>12</th>\n",
       "      <td>453003586</td>\n",
       "      <td>Shape_Area</td>\n",
       "      <td>number</td>\n",
       "      <td>shape_area</td>\n",
       "      <td>5</td>\n",
       "      <td>number</td>\n",
       "      <td>NaN</td>\n",
       "      <td>Planar area of the polygon</td>\n",
       "      <td>95163785.0</td>\n",
       "      <td>7</td>\n",
       "      <td>5109724.35419</td>\n",
       "      <td>0</td>\n",
       "      <td>[{'item': '65613.6489693', 'count': '1'}, {'it...</td>\n",
       "      <td>6220.48975269</td>\n",
       "      <td>7</td>\n",
       "    </tr>\n",
       "  </tbody>\n",
       "</table>\n",
       "</div>"
      ],
      "text/plain": [
       "           id          name  dataTypeName      fieldName  position  \\\n",
       "0          -1           sid     meta_data           :sid         0   \n",
       "1          -1            id     meta_data            :id         0   \n",
       "2          -1      position     meta_data      :position         0   \n",
       "3          -1    created_at     meta_data    :created_at         0   \n",
       "4          -1  created_meta     meta_data  :created_meta         0   \n",
       "5          -1    updated_at     meta_data    :updated_at         0   \n",
       "6          -1  updated_meta     meta_data  :updated_meta         0   \n",
       "7          -1          meta     meta_data          :meta         0   \n",
       "8   453003560      the_geom  multipolygon       the_geom         1   \n",
       "9   453003561      gridcode        number       gridcode         2   \n",
       "10  453003565      DEPTH_FT          text       depth_ft         3   \n",
       "11  453003585    Shape_Leng        number     shape_leng         4   \n",
       "12  453003586    Shape_Area        number     shape_area         5   \n",
       "\n",
       "   renderTypeName     flags                          description  \\\n",
       "0       meta_data  [hidden]                                  NaN   \n",
       "1       meta_data  [hidden]                                  NaN   \n",
       "2       meta_data  [hidden]                                  NaN   \n",
       "3       meta_data  [hidden]                                  NaN   \n",
       "4       meta_data  [hidden]                                  NaN   \n",
       "5       meta_data  [hidden]                                  NaN   \n",
       "6       meta_data  [hidden]                                  NaN   \n",
       "7       meta_data  [hidden]                                  NaN   \n",
       "8    multipolygon       NaN                    Location Geometry   \n",
       "9          number       NaN  Gridcode from original raster (N/A)   \n",
       "10           text       NaN       Depth of original raster (N/A)   \n",
       "11         number       NaN        Planar lengths of the polygon   \n",
       "12         number       NaN           Planar area of the polygon   \n",
       "\n",
       "    tableColumnId cachedContents.non_null cachedContents.largest  \\\n",
       "0             NaN                     NaN                    NaN   \n",
       "1             NaN                     NaN                    NaN   \n",
       "2             NaN                     NaN                    NaN   \n",
       "3             NaN                     NaN                    NaN   \n",
       "4             NaN                     NaN                    NaN   \n",
       "5             NaN                     NaN                    NaN   \n",
       "6             NaN                     NaN                    NaN   \n",
       "7             NaN                     NaN                    NaN   \n",
       "8      95163781.0                     NaN                    NaN   \n",
       "9      95163782.0                       7                      7   \n",
       "10     95163783.0                       0                    NaN   \n",
       "11     95163784.0                       7          403497.407074   \n",
       "12     95163785.0                       7          5109724.35419   \n",
       "\n",
       "   cachedContents.null                                 cachedContents.top  \\\n",
       "0                  NaN                                                NaN   \n",
       "1                  NaN                                                NaN   \n",
       "2                  NaN                                                NaN   \n",
       "3                  NaN                                                NaN   \n",
       "4                  NaN                                                NaN   \n",
       "5                  NaN                                                NaN   \n",
       "6                  NaN                                                NaN   \n",
       "7                  NaN                                                NaN   \n",
       "8                  NaN                                                NaN   \n",
       "9                    0  [{'item': '1', 'count': '1'}, {'item': '4', 'c...   \n",
       "10                   7                                                NaN   \n",
       "11                   0  [{'item': '14324.6565348', 'count': '1'}, {'it...   \n",
       "12                   0  [{'item': '65613.6489693', 'count': '1'}, {'it...   \n",
       "\n",
       "   cachedContents.smallest cachedContents.cardinality  \n",
       "0                      NaN                        NaN  \n",
       "1                      NaN                        NaN  \n",
       "2                      NaN                        NaN  \n",
       "3                      NaN                        NaN  \n",
       "4                      NaN                        NaN  \n",
       "5                      NaN                        NaN  \n",
       "6                      NaN                        NaN  \n",
       "7                      NaN                        NaN  \n",
       "8                      NaN                        NaN  \n",
       "9                        1                          7  \n",
       "10                     NaN                          0  \n",
       "11           1956.61676588                          7  \n",
       "12           6220.48975269                          7  "
      ]
     },
     "execution_count": 195,
     "metadata": {},
     "output_type": "execute_result"
    }
   ],
   "source": [
    "df = pd.json_normalize(data, record_path=['meta','view','columns'])\n",
    "df"
   ]
  },
  {
   "cell_type": "markdown",
   "id": "e6d0a844-b073-47d6-9065-dc5460a29b1c",
   "metadata": {},
   "source": [
    "### meta argument"
   ]
  },
  {
   "cell_type": "code",
   "execution_count": 197,
   "id": "0d6e5159-4a58-4b96-9a71-17aa197e75d9",
   "metadata": {
    "tags": []
   },
   "outputs": [],
   "source": [
    "\n",
    "df = pd.json_normalize(data, record_path='data',meta='meta')\n"
   ]
  },
  {
   "cell_type": "code",
   "execution_count": 199,
   "id": "9e34d20b-cb81-45a4-a273-799f99b5f1b4",
   "metadata": {
    "tags": []
   },
   "outputs": [
    {
     "data": {
      "text/html": [
       "<div>\n",
       "<style scoped>\n",
       "    .dataframe tbody tr th:only-of-type {\n",
       "        vertical-align: middle;\n",
       "    }\n",
       "\n",
       "    .dataframe tbody tr th {\n",
       "        vertical-align: top;\n",
       "    }\n",
       "\n",
       "    .dataframe thead th {\n",
       "        text-align: right;\n",
       "    }\n",
       "</style>\n",
       "<table border=\"1\" class=\"dataframe\">\n",
       "  <thead>\n",
       "    <tr style=\"text-align: right;\">\n",
       "      <th></th>\n",
       "      <th>0</th>\n",
       "      <th>1</th>\n",
       "      <th>2</th>\n",
       "      <th>3</th>\n",
       "      <th>4</th>\n",
       "      <th>5</th>\n",
       "      <th>6</th>\n",
       "      <th>7</th>\n",
       "      <th>8</th>\n",
       "      <th>9</th>\n",
       "      <th>10</th>\n",
       "      <th>11</th>\n",
       "      <th>12</th>\n",
       "      <th>meta</th>\n",
       "    </tr>\n",
       "  </thead>\n",
       "  <tbody>\n",
       "    <tr>\n",
       "      <th>0</th>\n",
       "      <td>row-q28d.27v6-9f5h</td>\n",
       "      <td>00000000-0000-0000-C94D-CEF7ABC1DF4E</td>\n",
       "      <td>0</td>\n",
       "      <td>1582656196</td>\n",
       "      <td>None</td>\n",
       "      <td>1582656196</td>\n",
       "      <td>None</td>\n",
       "      <td>{ }</td>\n",
       "      <td>MULTIPOLYGON (((-122.39340451043492 37.7082709...</td>\n",
       "      <td>1</td>\n",
       "      <td>None</td>\n",
       "      <td>403497.407074</td>\n",
       "      <td>5109724.35419</td>\n",
       "      <td>{'view': {'id': 'esku-ejgv', 'name': '100-Year...</td>\n",
       "    </tr>\n",
       "    <tr>\n",
       "      <th>1</th>\n",
       "      <td>row-cghi-7qw3_w8q7</td>\n",
       "      <td>00000000-0000-0000-7EAE-0CC6453E9A04</td>\n",
       "      <td>0</td>\n",
       "      <td>1582656196</td>\n",
       "      <td>None</td>\n",
       "      <td>1582656196</td>\n",
       "      <td>None</td>\n",
       "      <td>{ }</td>\n",
       "      <td>MULTIPOLYGON (((-122.3933817480972 37.70827985...</td>\n",
       "      <td>2</td>\n",
       "      <td>None</td>\n",
       "      <td>219147.103346</td>\n",
       "      <td>794145.707602</td>\n",
       "      <td>{'view': {'id': 'esku-ejgv', 'name': '100-Year...</td>\n",
       "    </tr>\n",
       "    <tr>\n",
       "      <th>2</th>\n",
       "      <td>row-2mj3-iidx.ww5b</td>\n",
       "      <td>00000000-0000-0000-B701-B26A64CD77D6</td>\n",
       "      <td>0</td>\n",
       "      <td>1582656196</td>\n",
       "      <td>None</td>\n",
       "      <td>1582656196</td>\n",
       "      <td>None</td>\n",
       "      <td>{ }</td>\n",
       "      <td>MULTIPOLYGON (((-122.39236645792793 37.6997140...</td>\n",
       "      <td>3</td>\n",
       "      <td>None</td>\n",
       "      <td>103724.875386</td>\n",
       "      <td>206087.884076</td>\n",
       "      <td>{'view': {'id': 'esku-ejgv', 'name': '100-Year...</td>\n",
       "    </tr>\n",
       "    <tr>\n",
       "      <th>3</th>\n",
       "      <td>row-sxi6.ix49_8z8p</td>\n",
       "      <td>00000000-0000-0000-72A3-7649F9FF2FDE</td>\n",
       "      <td>0</td>\n",
       "      <td>1582656196</td>\n",
       "      <td>None</td>\n",
       "      <td>1582656196</td>\n",
       "      <td>None</td>\n",
       "      <td>{ }</td>\n",
       "      <td>MULTIPOLYGON (((-122.38167178195368 37.7115856...</td>\n",
       "      <td>4</td>\n",
       "      <td>None</td>\n",
       "      <td>14324.6565348</td>\n",
       "      <td>65613.6489693</td>\n",
       "      <td>{'view': {'id': 'esku-ejgv', 'name': '100-Year...</td>\n",
       "    </tr>\n",
       "    <tr>\n",
       "      <th>4</th>\n",
       "      <td>row-ybre~jfpf~e8pe</td>\n",
       "      <td>00000000-0000-0000-E142-2963FA37BC47</td>\n",
       "      <td>0</td>\n",
       "      <td>1582656196</td>\n",
       "      <td>None</td>\n",
       "      <td>1582656196</td>\n",
       "      <td>None</td>\n",
       "      <td>{ }</td>\n",
       "      <td>MULTIPOLYGON (((-122.36361154704703 37.7190288...</td>\n",
       "      <td>5</td>\n",
       "      <td>None</td>\n",
       "      <td>6305.14575212</td>\n",
       "      <td>6559.42001802</td>\n",
       "      <td>{'view': {'id': 'esku-ejgv', 'name': '100-Year...</td>\n",
       "    </tr>\n",
       "    <tr>\n",
       "      <th>5</th>\n",
       "      <td>row-xazf-59va_ih27</td>\n",
       "      <td>00000000-0000-0000-1A01-86FD3A7CADD9</td>\n",
       "      <td>0</td>\n",
       "      <td>1582656196</td>\n",
       "      <td>None</td>\n",
       "      <td>1582656196</td>\n",
       "      <td>None</td>\n",
       "      <td>{ }</td>\n",
       "      <td>MULTIPOLYGON (((-122.36358900923197 37.7190107...</td>\n",
       "      <td>6</td>\n",
       "      <td>None</td>\n",
       "      <td>3775.37755422</td>\n",
       "      <td>6220.48975269</td>\n",
       "      <td>{'view': {'id': 'esku-ejgv', 'name': '100-Year...</td>\n",
       "    </tr>\n",
       "    <tr>\n",
       "      <th>6</th>\n",
       "      <td>row-fqce_m6u8_p6iy</td>\n",
       "      <td>00000000-0000-0000-9D29-72572931FE29</td>\n",
       "      <td>0</td>\n",
       "      <td>1582656196</td>\n",
       "      <td>None</td>\n",
       "      <td>1582656196</td>\n",
       "      <td>None</td>\n",
       "      <td>{ }</td>\n",
       "      <td>MULTIPOLYGON (((-122.36506748482017 37.7252558...</td>\n",
       "      <td>7</td>\n",
       "      <td>None</td>\n",
       "      <td>1956.61676588</td>\n",
       "      <td>9708.36506382</td>\n",
       "      <td>{'view': {'id': 'esku-ejgv', 'name': '100-Year...</td>\n",
       "    </tr>\n",
       "  </tbody>\n",
       "</table>\n",
       "</div>"
      ],
      "text/plain": [
       "                    0                                     1  2           3  \\\n",
       "0  row-q28d.27v6-9f5h  00000000-0000-0000-C94D-CEF7ABC1DF4E  0  1582656196   \n",
       "1  row-cghi-7qw3_w8q7  00000000-0000-0000-7EAE-0CC6453E9A04  0  1582656196   \n",
       "2  row-2mj3-iidx.ww5b  00000000-0000-0000-B701-B26A64CD77D6  0  1582656196   \n",
       "3  row-sxi6.ix49_8z8p  00000000-0000-0000-72A3-7649F9FF2FDE  0  1582656196   \n",
       "4  row-ybre~jfpf~e8pe  00000000-0000-0000-E142-2963FA37BC47  0  1582656196   \n",
       "5  row-xazf-59va_ih27  00000000-0000-0000-1A01-86FD3A7CADD9  0  1582656196   \n",
       "6  row-fqce_m6u8_p6iy  00000000-0000-0000-9D29-72572931FE29  0  1582656196   \n",
       "\n",
       "      4           5     6    7  \\\n",
       "0  None  1582656196  None  { }   \n",
       "1  None  1582656196  None  { }   \n",
       "2  None  1582656196  None  { }   \n",
       "3  None  1582656196  None  { }   \n",
       "4  None  1582656196  None  { }   \n",
       "5  None  1582656196  None  { }   \n",
       "6  None  1582656196  None  { }   \n",
       "\n",
       "                                                   8  9    10             11  \\\n",
       "0  MULTIPOLYGON (((-122.39340451043492 37.7082709...  1  None  403497.407074   \n",
       "1  MULTIPOLYGON (((-122.3933817480972 37.70827985...  2  None  219147.103346   \n",
       "2  MULTIPOLYGON (((-122.39236645792793 37.6997140...  3  None  103724.875386   \n",
       "3  MULTIPOLYGON (((-122.38167178195368 37.7115856...  4  None  14324.6565348   \n",
       "4  MULTIPOLYGON (((-122.36361154704703 37.7190288...  5  None  6305.14575212   \n",
       "5  MULTIPOLYGON (((-122.36358900923197 37.7190107...  6  None  3775.37755422   \n",
       "6  MULTIPOLYGON (((-122.36506748482017 37.7252558...  7  None  1956.61676588   \n",
       "\n",
       "              12                                               meta  \n",
       "0  5109724.35419  {'view': {'id': 'esku-ejgv', 'name': '100-Year...  \n",
       "1  794145.707602  {'view': {'id': 'esku-ejgv', 'name': '100-Year...  \n",
       "2  206087.884076  {'view': {'id': 'esku-ejgv', 'name': '100-Year...  \n",
       "3  65613.6489693  {'view': {'id': 'esku-ejgv', 'name': '100-Year...  \n",
       "4  6559.42001802  {'view': {'id': 'esku-ejgv', 'name': '100-Year...  \n",
       "5  6220.48975269  {'view': {'id': 'esku-ejgv', 'name': '100-Year...  \n",
       "6  9708.36506382  {'view': {'id': 'esku-ejgv', 'name': '100-Year...  "
      ]
     },
     "execution_count": 199,
     "metadata": {},
     "output_type": "execute_result"
    }
   ],
   "source": [
    "df"
   ]
  },
  {
   "cell_type": "markdown",
   "id": "4744d192-01c9-4bec-a89e-a7908b170ee5",
   "metadata": {},
   "source": [
    "### max level argument()"
   ]
  },
  {
   "cell_type": "code",
   "execution_count": 207,
   "id": "bb50e158-fa5e-4939-9424-fadca2c5005e",
   "metadata": {
    "tags": []
   },
   "outputs": [],
   "source": [
    "df = pd.json_normalize(data, record_path=['meta','view','approvals'], max_level=0)"
   ]
  },
  {
   "cell_type": "code",
   "execution_count": 209,
   "id": "b75bfd9a-9818-4f51-a613-29c51624e818",
   "metadata": {
    "tags": []
   },
   "outputs": [
    {
     "data": {
      "text/html": [
       "<div>\n",
       "<style scoped>\n",
       "    .dataframe tbody tr th:only-of-type {\n",
       "        vertical-align: middle;\n",
       "    }\n",
       "\n",
       "    .dataframe tbody tr th {\n",
       "        vertical-align: top;\n",
       "    }\n",
       "\n",
       "    .dataframe thead th {\n",
       "        text-align: right;\n",
       "    }\n",
       "</style>\n",
       "<table border=\"1\" class=\"dataframe\">\n",
       "  <thead>\n",
       "    <tr style=\"text-align: right;\">\n",
       "      <th></th>\n",
       "      <th>reviewedAt</th>\n",
       "      <th>reviewedAutomatically</th>\n",
       "      <th>state</th>\n",
       "      <th>submissionId</th>\n",
       "      <th>submissionObject</th>\n",
       "      <th>submissionOutcome</th>\n",
       "      <th>submittedAt</th>\n",
       "      <th>workflowId</th>\n",
       "      <th>reviewer</th>\n",
       "      <th>submissionDetails</th>\n",
       "      <th>submissionOutcomeApplication</th>\n",
       "      <th>submitter</th>\n",
       "    </tr>\n",
       "  </thead>\n",
       "  <tbody>\n",
       "    <tr>\n",
       "      <th>0</th>\n",
       "      <td>1592441916</td>\n",
       "      <td>False</td>\n",
       "      <td>approved</td>\n",
       "      <td>2162099</td>\n",
       "      <td>public_audience_request</td>\n",
       "      <td>change_audience</td>\n",
       "      <td>1588716520</td>\n",
       "      <td>2017</td>\n",
       "      <td>{'id': 's7k8-df3k', 'displayName': 'Jason Lally'}</td>\n",
       "      <td>{'permissionType': 'read'}</td>\n",
       "      <td>{'endedAt': 1592441916, 'failureCount': 0, 'st...</td>\n",
       "      <td>{'id': 'rtw4-hi68', 'displayName': 'Alex Morri...</td>\n",
       "    </tr>\n",
       "  </tbody>\n",
       "</table>\n",
       "</div>"
      ],
      "text/plain": [
       "   reviewedAt  reviewedAutomatically     state  submissionId  \\\n",
       "0  1592441916                  False  approved       2162099   \n",
       "\n",
       "          submissionObject submissionOutcome  submittedAt  workflowId  \\\n",
       "0  public_audience_request   change_audience   1588716520        2017   \n",
       "\n",
       "                                            reviewer  \\\n",
       "0  {'id': 's7k8-df3k', 'displayName': 'Jason Lally'}   \n",
       "\n",
       "            submissionDetails  \\\n",
       "0  {'permissionType': 'read'}   \n",
       "\n",
       "                        submissionOutcomeApplication  \\\n",
       "0  {'endedAt': 1592441916, 'failureCount': 0, 'st...   \n",
       "\n",
       "                                           submitter  \n",
       "0  {'id': 'rtw4-hi68', 'displayName': 'Alex Morri...  "
      ]
     },
     "execution_count": 209,
     "metadata": {},
     "output_type": "execute_result"
    }
   ],
   "source": [
    "df"
   ]
  },
  {
   "cell_type": "code",
   "execution_count": 211,
   "id": "5be8a8c8-dcd6-4331-9929-b0ee5a613746",
   "metadata": {
    "tags": []
   },
   "outputs": [],
   "source": [
    "df = pd.json_normalize(data, record_path=['meta','view','approvals'], max_level=1)"
   ]
  },
  {
   "cell_type": "code",
   "execution_count": 213,
   "id": "1deefde5-c821-4bfc-b289-5d1aca0d2284",
   "metadata": {
    "tags": []
   },
   "outputs": [
    {
     "data": {
      "text/html": [
       "<div>\n",
       "<style scoped>\n",
       "    .dataframe tbody tr th:only-of-type {\n",
       "        vertical-align: middle;\n",
       "    }\n",
       "\n",
       "    .dataframe tbody tr th {\n",
       "        vertical-align: top;\n",
       "    }\n",
       "\n",
       "    .dataframe thead th {\n",
       "        text-align: right;\n",
       "    }\n",
       "</style>\n",
       "<table border=\"1\" class=\"dataframe\">\n",
       "  <thead>\n",
       "    <tr style=\"text-align: right;\">\n",
       "      <th></th>\n",
       "      <th>reviewedAt</th>\n",
       "      <th>reviewedAutomatically</th>\n",
       "      <th>state</th>\n",
       "      <th>submissionId</th>\n",
       "      <th>submissionObject</th>\n",
       "      <th>submissionOutcome</th>\n",
       "      <th>submittedAt</th>\n",
       "      <th>workflowId</th>\n",
       "      <th>reviewer.id</th>\n",
       "      <th>reviewer.displayName</th>\n",
       "      <th>submissionDetails.permissionType</th>\n",
       "      <th>submissionOutcomeApplication.endedAt</th>\n",
       "      <th>submissionOutcomeApplication.failureCount</th>\n",
       "      <th>submissionOutcomeApplication.startedAt</th>\n",
       "      <th>submissionOutcomeApplication.status</th>\n",
       "      <th>submitter.id</th>\n",
       "      <th>submitter.displayName</th>\n",
       "    </tr>\n",
       "  </thead>\n",
       "  <tbody>\n",
       "    <tr>\n",
       "      <th>0</th>\n",
       "      <td>1592441916</td>\n",
       "      <td>False</td>\n",
       "      <td>approved</td>\n",
       "      <td>2162099</td>\n",
       "      <td>public_audience_request</td>\n",
       "      <td>change_audience</td>\n",
       "      <td>1588716520</td>\n",
       "      <td>2017</td>\n",
       "      <td>s7k8-df3k</td>\n",
       "      <td>Jason Lally</td>\n",
       "      <td>read</td>\n",
       "      <td>1592441916</td>\n",
       "      <td>0</td>\n",
       "      <td>1592441916</td>\n",
       "      <td>success</td>\n",
       "      <td>rtw4-hi68</td>\n",
       "      <td>Alex Morrison</td>\n",
       "    </tr>\n",
       "  </tbody>\n",
       "</table>\n",
       "</div>"
      ],
      "text/plain": [
       "   reviewedAt  reviewedAutomatically     state  submissionId  \\\n",
       "0  1592441916                  False  approved       2162099   \n",
       "\n",
       "          submissionObject submissionOutcome  submittedAt  workflowId  \\\n",
       "0  public_audience_request   change_audience   1588716520        2017   \n",
       "\n",
       "  reviewer.id reviewer.displayName submissionDetails.permissionType  \\\n",
       "0   s7k8-df3k          Jason Lally                             read   \n",
       "\n",
       "   submissionOutcomeApplication.endedAt  \\\n",
       "0                            1592441916   \n",
       "\n",
       "   submissionOutcomeApplication.failureCount  \\\n",
       "0                                          0   \n",
       "\n",
       "   submissionOutcomeApplication.startedAt submissionOutcomeApplication.status  \\\n",
       "0                              1592441916                             success   \n",
       "\n",
       "  submitter.id submitter.displayName  \n",
       "0    rtw4-hi68         Alex Morrison  "
      ]
     },
     "execution_count": 213,
     "metadata": {},
     "output_type": "execute_result"
    }
   ],
   "source": [
    "df"
   ]
  },
  {
   "cell_type": "markdown",
   "id": "402fce07-62f6-4373-8154-48c5e4ca9bd9",
   "metadata": {},
   "source": [
    "### Exporting DataFrames to JSON"
   ]
  },
  {
   "cell_type": "code",
   "execution_count": 216,
   "id": "d67d9419-eb97-45d1-8b13-5dba727c229e",
   "metadata": {
    "tags": []
   },
   "outputs": [
    {
     "data": {
      "text/html": [
       "<div>\n",
       "<style scoped>\n",
       "    .dataframe tbody tr th:only-of-type {\n",
       "        vertical-align: middle;\n",
       "    }\n",
       "\n",
       "    .dataframe tbody tr th {\n",
       "        vertical-align: top;\n",
       "    }\n",
       "\n",
       "    .dataframe thead th {\n",
       "        text-align: right;\n",
       "    }\n",
       "</style>\n",
       "<table border=\"1\" class=\"dataframe\">\n",
       "  <thead>\n",
       "    <tr style=\"text-align: right;\">\n",
       "      <th></th>\n",
       "      <th>sid</th>\n",
       "      <th>id</th>\n",
       "      <th>position</th>\n",
       "      <th>created_at</th>\n",
       "      <th>created_meta</th>\n",
       "      <th>updated_at</th>\n",
       "      <th>updated_meta</th>\n",
       "      <th>gridcode</th>\n",
       "      <th>DEPTH_FT</th>\n",
       "      <th>Shape_Leng</th>\n",
       "      <th>Shape_Area</th>\n",
       "    </tr>\n",
       "  </thead>\n",
       "  <tbody>\n",
       "    <tr>\n",
       "      <th>0</th>\n",
       "      <td>row-q28d.27v6-9f5h</td>\n",
       "      <td>00000000-0000-0000-C94D-CEF7ABC1DF4E</td>\n",
       "      <td>0</td>\n",
       "      <td>1582656196</td>\n",
       "      <td>NaN</td>\n",
       "      <td>1582656196</td>\n",
       "      <td>NaN</td>\n",
       "      <td>1</td>\n",
       "      <td>NaN</td>\n",
       "      <td>403497.407074</td>\n",
       "      <td>5.109724e+06</td>\n",
       "    </tr>\n",
       "    <tr>\n",
       "      <th>1</th>\n",
       "      <td>row-cghi-7qw3_w8q7</td>\n",
       "      <td>00000000-0000-0000-7EAE-0CC6453E9A04</td>\n",
       "      <td>0</td>\n",
       "      <td>1582656196</td>\n",
       "      <td>NaN</td>\n",
       "      <td>1582656196</td>\n",
       "      <td>NaN</td>\n",
       "      <td>2</td>\n",
       "      <td>NaN</td>\n",
       "      <td>219147.103346</td>\n",
       "      <td>7.941457e+05</td>\n",
       "    </tr>\n",
       "    <tr>\n",
       "      <th>2</th>\n",
       "      <td>row-2mj3-iidx.ww5b</td>\n",
       "      <td>00000000-0000-0000-B701-B26A64CD77D6</td>\n",
       "      <td>0</td>\n",
       "      <td>1582656196</td>\n",
       "      <td>NaN</td>\n",
       "      <td>1582656196</td>\n",
       "      <td>NaN</td>\n",
       "      <td>3</td>\n",
       "      <td>NaN</td>\n",
       "      <td>103724.875386</td>\n",
       "      <td>2.060879e+05</td>\n",
       "    </tr>\n",
       "    <tr>\n",
       "      <th>3</th>\n",
       "      <td>row-sxi6.ix49_8z8p</td>\n",
       "      <td>00000000-0000-0000-72A3-7649F9FF2FDE</td>\n",
       "      <td>0</td>\n",
       "      <td>1582656196</td>\n",
       "      <td>NaN</td>\n",
       "      <td>1582656196</td>\n",
       "      <td>NaN</td>\n",
       "      <td>4</td>\n",
       "      <td>NaN</td>\n",
       "      <td>14324.656535</td>\n",
       "      <td>6.561365e+04</td>\n",
       "    </tr>\n",
       "    <tr>\n",
       "      <th>4</th>\n",
       "      <td>row-ybre~jfpf~e8pe</td>\n",
       "      <td>00000000-0000-0000-E142-2963FA37BC47</td>\n",
       "      <td>0</td>\n",
       "      <td>1582656196</td>\n",
       "      <td>NaN</td>\n",
       "      <td>1582656196</td>\n",
       "      <td>NaN</td>\n",
       "      <td>5</td>\n",
       "      <td>NaN</td>\n",
       "      <td>6305.145752</td>\n",
       "      <td>6.559420e+03</td>\n",
       "    </tr>\n",
       "  </tbody>\n",
       "</table>\n",
       "</div>"
      ],
      "text/plain": [
       "                  sid                                    id  position  \\\n",
       "0  row-q28d.27v6-9f5h  00000000-0000-0000-C94D-CEF7ABC1DF4E         0   \n",
       "1  row-cghi-7qw3_w8q7  00000000-0000-0000-7EAE-0CC6453E9A04         0   \n",
       "2  row-2mj3-iidx.ww5b  00000000-0000-0000-B701-B26A64CD77D6         0   \n",
       "3  row-sxi6.ix49_8z8p  00000000-0000-0000-72A3-7649F9FF2FDE         0   \n",
       "4  row-ybre~jfpf~e8pe  00000000-0000-0000-E142-2963FA37BC47         0   \n",
       "\n",
       "   created_at  created_meta  updated_at  updated_meta  gridcode  DEPTH_FT  \\\n",
       "0  1582656196           NaN  1582656196           NaN         1       NaN   \n",
       "1  1582656196           NaN  1582656196           NaN         2       NaN   \n",
       "2  1582656196           NaN  1582656196           NaN         3       NaN   \n",
       "3  1582656196           NaN  1582656196           NaN         4       NaN   \n",
       "4  1582656196           NaN  1582656196           NaN         5       NaN   \n",
       "\n",
       "      Shape_Leng    Shape_Area  \n",
       "0  403497.407074  5.109724e+06  \n",
       "1  219147.103346  7.941457e+05  \n",
       "2  103724.875386  2.060879e+05  \n",
       "3   14324.656535  6.561365e+04  \n",
       "4    6305.145752  6.559420e+03  "
      ]
     },
     "execution_count": 216,
     "metadata": {},
     "output_type": "execute_result"
    }
   ],
   "source": [
    "import pandas as pd\n",
    "data = pd.read_csv('sea_level_rise.csv')\n",
    "data.head()"
   ]
  },
  {
   "cell_type": "markdown",
   "id": "e6459f35-698e-427c-b65a-7c0863fb0ca2",
   "metadata": {},
   "source": [
    "### default arguments"
   ]
  },
  {
   "cell_type": "code",
   "execution_count": 220,
   "id": "f2281eba-4352-40b9-a336-1709fd6ac12d",
   "metadata": {
    "tags": []
   },
   "outputs": [],
   "source": [
    "data.to_json('Default.json')"
   ]
  },
  {
   "cell_type": "markdown",
   "id": "3d942f85-f681-44b8-9046-75214c3091f9",
   "metadata": {},
   "source": [
    "### indent argument"
   ]
  },
  {
   "cell_type": "code",
   "execution_count": 225,
   "id": "3fe18fb7-7219-45e9-8731-5041cdf8df2c",
   "metadata": {
    "tags": []
   },
   "outputs": [],
   "source": [
    "data.to_json('Indent.json', indent=4)"
   ]
  },
  {
   "cell_type": "markdown",
   "id": "391ea8fa-8754-4c8e-b7bc-b6518ab78fd8",
   "metadata": {},
   "source": [
    "### Orient argument"
   ]
  },
  {
   "cell_type": "markdown",
   "id": "9eaf38ef-684d-45af-b8e8-1342a9196a4a",
   "metadata": {},
   "source": [
    "**split**"
   ]
  },
  {
   "cell_type": "code",
   "execution_count": 231,
   "id": "e4b6e44a-f524-4f65-9400-fd1d131ed010",
   "metadata": {
    "tags": []
   },
   "outputs": [],
   "source": [
    "data.to_json('Orient_Split.json',indent=2 ,orient='split')"
   ]
  },
  {
   "cell_type": "markdown",
   "id": "7d59675e-2138-4531-9b40-1021ae5f0cf1",
   "metadata": {},
   "source": [
    "**records**"
   ]
  },
  {
   "cell_type": "code",
   "execution_count": 233,
   "id": "fd9d0631-43a7-4e89-ac95-333fb7ee8385",
   "metadata": {
    "tags": []
   },
   "outputs": [],
   "source": [
    "data.to_json('Orient_Records.json',indent=2 ,orient='records')"
   ]
  },
  {
   "cell_type": "markdown",
   "id": "0d1ed1e7-0724-4301-a9dd-5a97570cfb20",
   "metadata": {},
   "source": [
    "**index**"
   ]
  },
  {
   "cell_type": "code",
   "execution_count": 235,
   "id": "cebde45a-2944-4612-b40f-e16703095a10",
   "metadata": {
    "tags": []
   },
   "outputs": [],
   "source": [
    "data.to_json('Orient_Index.json',indent=2 ,orient='index')"
   ]
  },
  {
   "cell_type": "markdown",
   "id": "c5b00e0e-44f1-4c88-8ad4-ac368e348b33",
   "metadata": {},
   "source": [
    "**columns**"
   ]
  },
  {
   "cell_type": "code",
   "execution_count": 237,
   "id": "f5bef7ae-3507-48f7-b556-6f98a6c01187",
   "metadata": {
    "tags": []
   },
   "outputs": [],
   "source": [
    "data.to_json('Orient_Columns.json',indent=2 ,orient='columns')"
   ]
  },
  {
   "cell_type": "markdown",
   "id": "0c0d1a9d-9542-45b1-8130-eecab6a4b310",
   "metadata": {},
   "source": [
    "**values**"
   ]
  },
  {
   "cell_type": "code",
   "execution_count": 239,
   "id": "238af6a0-e957-43d2-b95f-ccd55b80c2da",
   "metadata": {
    "tags": []
   },
   "outputs": [],
   "source": [
    "data.to_json('Orient_Values.json',indent=2 ,orient='values')"
   ]
  },
  {
   "cell_type": "markdown",
   "id": "268ad110-5339-4d97-b728-b83b8c9fa7ae",
   "metadata": {},
   "source": [
    "**table**"
   ]
  },
  {
   "cell_type": "code",
   "execution_count": 241,
   "id": "bfa440da-8820-4b71-b163-45f481e2761c",
   "metadata": {
    "tags": []
   },
   "outputs": [],
   "source": [
    "data.to_json('Orient_Table.json',indent=2 ,orient='table')"
   ]
  },
  {
   "cell_type": "markdown",
   "id": "43186112-bbf4-4150-891d-12f37a1055fb",
   "metadata": {},
   "source": [
    "# APIs: A Basic Overview\n",
    "\n",
    "**What is an API?**\n",
    "\n",
    "API stands for Application Programming Interface. It's a set of rules and specifications that allow one application to access features or data of another application. This access is typically granted through the use of a set of well-defined commands, functions, and protocols.\n",
    "\n",
    "**Analogy:**\n",
    "\n",
    "Think of ordering food at a restaurant:\n",
    "\n",
    "* You (the application) want to order food (access data/features).\n",
    "* You interact with the waiter (the API).\n",
    "* The waiter takes your order (request) and delivers it to the kitchen (another application).\n",
    "* The kitchen prepares your food and the waiter brings it back (response).\n",
    "\n",
    "**Basic components of an API request:**\n",
    "\n",
    "* **Method:**  The action you want to perform (e.g., GET, POST, PUT, DELETE). These are commonly known as HTTP methods.\n",
    "* **Endpoint:** The specific location of the resource you want to access (like a URL).\n",
    "* **Headers:**  Provide additional information about the request (e.g., authentication).\n",
    "* **Body:** Contains data you want to send with the request (e.g., for creating a new user).\n",
    "\n",
    "**Diagram:**"
   ]
  },
  {
   "cell_type": "markdown",
   "id": "e4b6a0ae-dcb6-4838-b8f4-d1d9b2e50120",
   "metadata": {},
   "source": [
    "```\n",
    "[Application 1] <---> [API] <---> [Application 2]\n",
    "                       ^\n",
    "                       |\n",
    "                  [Request with Method, Endpoint, Headers, Body]\n",
    "                       |\n",
    "                       v\n",
    "                  [Response with Status Code, Headers, Body]\n",
    "```"
   ]
  },
  {
   "cell_type": "markdown",
   "id": "9dd30c91-dbeb-4060-9ecf-65b325ec79d1",
   "metadata": {},
   "source": [
    "**Example:**\n",
    "\n",
    "Getting the current temperature in London using a weather API:\n",
    "\n",
    "* **Method:** GET (to retrieve data)\n",
    "* **Endpoint:** `/weather?city=London` \n",
    "* **Request:** `GET /weather?city=London`\n",
    "* **Response:**  `{ \"city\": \"London\", \"temperature\": \"15°C\" }`\n",
    "\n",
    "**Why are APIs important?**\n",
    "\n",
    "* **Efficiency:** Reuse existing functionalities.\n",
    "* **Innovation:** Enable the creation of new applications by combining existing ones.\n",
    "* **Integration:** Allow different applications to communicate and share data.\n",
    "\n",
    "**Further Reading:**\n",
    "\n",
    "* **Medium article:** [The Basics of API for Beginners: A Complete Guide](https://medium.com/@techwritershub/the-basics-of-api-for-beginners-a-complete-guide-be4d0c9d9b15)\n",
    "* **HubSpot blog post:** [What Is An API Diagram? Explaining REST API Architecture](https://blog.hubspot.com/website/api-diagram)\n",
    "* **Multiplayer.app article:** [API Flow Diagram: Best Practices & Examples](https://www.multiplayer.app/distributed-systems-architecture/api-flow-diagram/)\n",
    "* **Technology Advice article:** [How to Use an API: Just the Basics](https://technologyadvice.com/blog/information-technology/how-to-use-an-api/)\n",
    "* **Lucidchart blog post:** [Why You Should Create API Diagrams](https://www.lucidchart.com/blog/why-you-should-create-an-api-diagram)\n"
   ]
  },
  {
   "cell_type": "markdown",
   "id": "16ec6e82-e76d-498d-84ce-6ffd37ae10d7",
   "metadata": {},
   "source": [
    "# Diving Deeper into API Concepts\n",
    "\n",
    "## 1. API Protocols\n",
    "\n",
    "API protocols define the rules for how applications communicate. They govern data format, exchange methods, and error handling. Common protocols include:\n",
    "\n",
    "* **REST (Representational State Transfer):**  The most popular, using standard HTTP methods (GET, POST, PUT, DELETE) to interact with resources. REST APIs are stateless.\n",
    "* **SOAP (Simple Object Access Protocol):** More structured, using XML for message exchange. Often relies on WSDL for interface definition.\n",
    "* **GraphQL:**  A query language allowing clients to request specific data, reducing over-fetching.\n",
    "\n",
    "## 2. API Contexts\n",
    "\n",
    "Context refers to the circumstances surrounding an API request:\n",
    "\n",
    "* **User authentication:** Who's making the request? Are they authorized?\n",
    "* **Request origin:** Where's the request coming from? Used for security and rate limiting.\n",
    "* **Request parameters:** What data is being requested? This influences API processing and the returned data.\n",
    "\n",
    "## 3. API Endpoints\n",
    "\n",
    "An endpoint is a URL representing a resource or functionality. It's where an application sends requests. Examples:\n",
    "\n",
    "* `/users`: To access user information.\n",
    "* `/posts`: To access posts.\n",
    "* `/users/{user_id}/posts`: To access posts by a specific user.\n",
    "\n",
    "## 4. API Verbs (HTTP Methods)\n",
    "\n",
    "Verbs define the action to be performed:\n",
    "\n",
    "* **GET:** Retrieve data.\n",
    "* **POST:** Create a new resource.\n",
    "* **PUT:** Update an existing resource.\n",
    "* **DELETE:** Delete a resource.\n",
    "* **PATCH:** Partially modify a resource.\n",
    "\n",
    "## 5. API Responses\n",
    "\n",
    "Responses are the server's reply to a request:\n",
    "\n",
    "* **Status code:** Indicates request success or failure (e.g., 200 OK, 404 Not Found).\n",
    "* **Headers:** Provide metadata about the response (e.g., content type, caching information).\n",
    "* **Body:** Contains the actual data returned by the API (e.g., JSON, XML).\n"
   ]
  },
  {
   "cell_type": "markdown",
   "id": "3a6286f7-bf22-4b14-8237-c59158a6a5d6",
   "metadata": {},
   "source": [
    "## Making test API call"
   ]
  },
  {
   "cell_type": "markdown",
   "id": "bff45813-8f9f-41d3-81cd-ccc788eea868",
   "metadata": {
    "tags": []
   },
   "source": [
    "## Documentation\n",
    "\n",
    "https://openweathermap.org/current"
   ]
  },
  {
   "cell_type": "code",
   "execution_count": 320,
   "id": "dd0d346b-056e-4c75-9550-d09a55367478",
   "metadata": {
    "tags": []
   },
   "outputs": [
    {
     "data": {
      "text/plain": [
       "'{\"coord\":{\"lon\":155.5828,\"lat\":19.8968},\"weather\":[{\"id\":800,\"main\":\"Clear\",\"description\":\"clear sky\",\"icon\":\"01n\"}],\"base\":\"stations\",\"main\":{\"temp\":300.92,\"feels_like\":304.54,\"temp_min\":300.92,\"temp_max\":300.92,\"pressure\":1014,\"humidity\":79,\"sea_level\":1014,\"grnd_level\":1014},\"visibility\":10000,\"wind\":{\"speed\":7.7,\"deg\":85,\"gust\":8.41},\"clouds\":{\"all\":0},\"dt\":1731323136,\"sys\":{\"sunrise\":1731267846,\"sunset\":1731308363},\"timezone\":36000,\"id\":0,\"name\":\"\",\"cod\":200}'"
      ]
     },
     "execution_count": 320,
     "metadata": {},
     "output_type": "execute_result"
    }
   ],
   "source": [
    "import requests\n",
    "\n",
    "url = \"https://api.openweathermap.org/data/2.5/weather\"\n",
    "\n",
    "querystring = {\"lat\":\"19.8968\",\"lon\":\"155.5828\",\"appid\":api_key}\n",
    "\n",
    "response = requests.request(\"GET\", url, params=querystring)\n",
    "\n",
    "response.text"
   ]
  },
  {
   "cell_type": "markdown",
   "id": "8fea8418-dfb6-4a1e-9ab5-74e00b5bd26e",
   "metadata": {},
   "source": [
    "### convert JSON response to a Python Dictionary"
   ]
  },
  {
   "cell_type": "code",
   "execution_count": 323,
   "id": "30e453e7-54be-4e8a-ad57-851b2ab89fc8",
   "metadata": {
    "tags": []
   },
   "outputs": [
    {
     "data": {
      "text/plain": [
       "{'coord': {'lon': 155.5828, 'lat': 19.8968},\n",
       " 'weather': [{'id': 800,\n",
       "   'main': 'Clear',\n",
       "   'description': 'clear sky',\n",
       "   'icon': '01n'}],\n",
       " 'base': 'stations',\n",
       " 'main': {'temp': 300.92,\n",
       "  'feels_like': 304.54,\n",
       "  'temp_min': 300.92,\n",
       "  'temp_max': 300.92,\n",
       "  'pressure': 1014,\n",
       "  'humidity': 79,\n",
       "  'sea_level': 1014,\n",
       "  'grnd_level': 1014},\n",
       " 'visibility': 10000,\n",
       " 'wind': {'speed': 7.7, 'deg': 85, 'gust': 8.41},\n",
       " 'clouds': {'all': 0},\n",
       " 'dt': 1731323136,\n",
       " 'sys': {'sunrise': 1731267846, 'sunset': 1731308363},\n",
       " 'timezone': 36000,\n",
       " 'id': 0,\n",
       " 'name': '',\n",
       " 'cod': 200}"
      ]
     },
     "execution_count": 323,
     "metadata": {},
     "output_type": "execute_result"
    }
   ],
   "source": [
    "import json\n",
    "data = json.loads(response.text)\n",
    "data"
   ]
  },
  {
   "cell_type": "code",
   "execution_count": 325,
   "id": "38cd9957-81e6-43f8-9aaa-3b98eb2639da",
   "metadata": {
    "tags": []
   },
   "outputs": [
    {
     "data": {
      "text/plain": [
       "{'coord': {'lon': 155.5828, 'lat': 19.8968},\n",
       " 'weather': [{'id': 800,\n",
       "   'main': 'Clear',\n",
       "   'description': 'clear sky',\n",
       "   'icon': '01n'}],\n",
       " 'base': 'stations',\n",
       " 'main': {'temp': 300.92,\n",
       "  'feels_like': 304.54,\n",
       "  'temp_min': 300.92,\n",
       "  'temp_max': 300.92,\n",
       "  'pressure': 1014,\n",
       "  'humidity': 79,\n",
       "  'sea_level': 1014,\n",
       "  'grnd_level': 1014},\n",
       " 'visibility': 10000,\n",
       " 'wind': {'speed': 7.7, 'deg': 85, 'gust': 8.41},\n",
       " 'clouds': {'all': 0},\n",
       " 'dt': 1731323136,\n",
       " 'sys': {'sunrise': 1731267846, 'sunset': 1731308363},\n",
       " 'timezone': 36000,\n",
       " 'id': 0,\n",
       " 'name': '',\n",
       " 'cod': 200}"
      ]
     },
     "execution_count": 325,
     "metadata": {},
     "output_type": "execute_result"
    }
   ],
   "source": [
    "data = response.json()\n",
    "data"
   ]
  },
  {
   "cell_type": "markdown",
   "id": "55653913-5792-40f2-bbe0-054042514339",
   "metadata": {},
   "source": [
    "# Request Components\n",
    "\n",
    "## headers"
   ]
  },
  {
   "cell_type": "code",
   "execution_count": 305,
   "id": "ae988a63-6fc7-4882-875b-ae58ac5a9877",
   "metadata": {
    "tags": []
   },
   "outputs": [
    {
     "data": {
      "text/plain": [
       "{'User-Agent': 'python-requests/2.31.0', 'Accept-Encoding': 'gzip, deflate, br', 'Accept': '*/*', 'Connection': 'keep-alive'}"
      ]
     },
     "execution_count": 305,
     "metadata": {},
     "output_type": "execute_result"
    }
   ],
   "source": [
    "import requests\n",
    "\n",
    "url = \"https://example.com/Contacts/v2/getContact\"\n",
    "\n",
    "querystring= {'Name':'Berkley'}\n",
    "\n",
    "response = requests.request(\"GET\",url,params=querystring)\n",
    "\n",
    "response.request.headers"
   ]
  },
  {
   "cell_type": "code",
   "execution_count": 309,
   "id": "620a24e6-3748-4e69-aaa5-e7cae6894df3",
   "metadata": {
    "tags": []
   },
   "outputs": [
    {
     "data": {
      "text/plain": [
       "{'User-Agent': 'Chrome', 'Accept-Encoding': 'gzip, deflate, br', 'Accept': '*/*', 'Connection': 'keep-alive', 'Authorization': 'API-KEY 12345abcd'}"
      ]
     },
     "execution_count": 309,
     "metadata": {},
     "output_type": "execute_result"
    }
   ],
   "source": [
    "url = \"https://example.com/Contacts/v2/getContact\"\n",
    "\n",
    "headers = {'User-Agent':'Chrome','Authorization':'API-KEY 12345abcd'}\n",
    "\n",
    "querystring= {'Name':'Berkley'}\n",
    "\n",
    "response = requests.request(\"GET\",url,params=querystring,headers=headers)\n",
    "\n",
    "response.request.headers"
   ]
  },
  {
   "cell_type": "markdown",
   "id": "abd250df-8543-4808-a92e-703506317f78",
   "metadata": {},
   "source": [
    "## Body"
   ]
  },
  {
   "cell_type": "code",
   "execution_count": 312,
   "id": "06d23bff-7930-43e7-90a4-2e6d8325f939",
   "metadata": {
    "tags": []
   },
   "outputs": [
    {
     "data": {
      "text/plain": [
       "b'{\"firstName\": \"Dilion\"}'"
      ]
     },
     "execution_count": 312,
     "metadata": {},
     "output_type": "execute_result"
    }
   ],
   "source": [
    "url = \"https://example.com/api/v2/addContact\"\n",
    "\n",
    "data = {'firstName':'Dilion'}\n",
    "\n",
    "response = requests.request(\"POST\",url, json=data)\n",
    "\n",
    "response.request.body"
   ]
  },
  {
   "cell_type": "markdown",
   "id": "4ed73f4d-18fe-418b-902b-02523297b01e",
   "metadata": {},
   "source": [
    "# Response Components"
   ]
  },
  {
   "cell_type": "code",
   "execution_count": 328,
   "id": "9171a453-c4d3-4519-bdc5-d14c7d61158c",
   "metadata": {
    "tags": []
   },
   "outputs": [],
   "source": [
    "import requests\n",
    "\n",
    "url = \"https://api.openweathermap.org/data/2.5/weather\"\n",
    "\n",
    "querystring = {\"lat\":\"19.8968\",\"lon\":\"155.5828\",\"appid\":api_key}\n",
    "\n",
    "response = requests.request(\"GET\", url, params=querystring)"
   ]
  },
  {
   "cell_type": "markdown",
   "id": "dbe79324-ddf9-4a63-b243-659760ccebdc",
   "metadata": {},
   "source": [
    "## headers"
   ]
  },
  {
   "cell_type": "code",
   "execution_count": 330,
   "id": "ba641c18-eee2-4306-a181-0cb3cc693e61",
   "metadata": {
    "tags": []
   },
   "outputs": [
    {
     "data": {
      "text/plain": [
       "{'Server': 'openresty', 'Date': 'Mon, 11 Nov 2024 11:06:23 GMT', 'Content-Type': 'application/json; charset=utf-8', 'Content-Length': '468', 'Connection': 'keep-alive', 'X-Cache-Key': '/data/2.5/weather?lat=19.9&lon=155.58', 'Access-Control-Allow-Origin': '*', 'Access-Control-Allow-Credentials': 'true', 'Access-Control-Allow-Methods': 'GET, POST'}"
      ]
     },
     "execution_count": 330,
     "metadata": {},
     "output_type": "execute_result"
    }
   ],
   "source": [
    "response.headers"
   ]
  },
  {
   "cell_type": "markdown",
   "id": "e2672cdc-c801-46dc-8778-d4aab5c2ab4f",
   "metadata": {},
   "source": [
    "## Response code"
   ]
  },
  {
   "cell_type": "code",
   "execution_count": 335,
   "id": "6671f76a-8a7c-48e7-966e-9f370c528e3e",
   "metadata": {
    "tags": []
   },
   "outputs": [
    {
     "data": {
      "text/plain": [
       "(200, 'OK')"
      ]
     },
     "execution_count": 335,
     "metadata": {},
     "output_type": "execute_result"
    }
   ],
   "source": [
    "response.status_code, response.reason"
   ]
  },
  {
   "cell_type": "code",
   "execution_count": 337,
   "id": "1f96f4d8-cdd0-452a-92f1-5905ac67b699",
   "metadata": {
    "tags": []
   },
   "outputs": [
    {
     "data": {
      "text/plain": [
       "(405, 'Method Not Allowed')"
      ]
     },
     "execution_count": 337,
     "metadata": {},
     "output_type": "execute_result"
    }
   ],
   "source": [
    "querystring = {\"lat\":\"19.8968\",\"lon\":\"155.5828\",\"appid\":api_key}\n",
    "\n",
    "response = requests.request(\"PATCH\",url,params=querystring)\n",
    "\n",
    "response.status_code, response.reason"
   ]
  },
  {
   "cell_type": "markdown",
   "id": "612ac378-f252-43ac-a84d-27b12efff615",
   "metadata": {},
   "source": [
    "## Response Time"
   ]
  },
  {
   "cell_type": "code",
   "execution_count": 339,
   "id": "fc95e1b8-2bc0-413e-8113-db56b95acec6",
   "metadata": {
    "tags": []
   },
   "outputs": [
    {
     "data": {
      "text/plain": [
       "datetime.timedelta(microseconds=627570)"
      ]
     },
     "execution_count": 339,
     "metadata": {},
     "output_type": "execute_result"
    }
   ],
   "source": [
    "response.elapsed"
   ]
  },
  {
   "cell_type": "code",
   "execution_count": null,
   "id": "cc96c2c1-45cb-41b7-b0a7-6d7e9aecc987",
   "metadata": {},
   "outputs": [],
   "source": []
  },
  {
   "cell_type": "code",
   "execution_count": null,
   "id": "7cbf33eb-e89e-44d5-8811-3f94ea8c5a2b",
   "metadata": {},
   "outputs": [],
   "source": []
  },
  {
   "cell_type": "code",
   "execution_count": null,
   "id": "02be7fc4-6c3d-481f-8ffc-ef0cf5bbd37f",
   "metadata": {},
   "outputs": [],
   "source": []
  },
  {
   "cell_type": "code",
   "execution_count": null,
   "id": "6f485046-0c8f-4bb5-8e21-826c9a8a478c",
   "metadata": {},
   "outputs": [],
   "source": []
  },
  {
   "cell_type": "code",
   "execution_count": null,
   "id": "badd91cc-9838-43b0-9f73-989376af1964",
   "metadata": {},
   "outputs": [],
   "source": []
  },
  {
   "cell_type": "code",
   "execution_count": null,
   "id": "756b1c4c-60af-40b0-a30b-aedf1d10337b",
   "metadata": {},
   "outputs": [],
   "source": []
  },
  {
   "cell_type": "code",
   "execution_count": null,
   "id": "a0744a9a-2f13-4f03-b379-abd70fedb4b0",
   "metadata": {},
   "outputs": [],
   "source": []
  }
 ],
 "metadata": {
  "kernelspec": {
   "display_name": "Python 3 (ipykernel)",
   "language": "python",
   "name": "python3"
  },
  "language_info": {
   "codemirror_mode": {
    "name": "ipython",
    "version": 3
   },
   "file_extension": ".py",
   "mimetype": "text/x-python",
   "name": "python",
   "nbconvert_exporter": "python",
   "pygments_lexer": "ipython3",
   "version": "3.11.5"
  }
 },
 "nbformat": 4,
 "nbformat_minor": 5
}
